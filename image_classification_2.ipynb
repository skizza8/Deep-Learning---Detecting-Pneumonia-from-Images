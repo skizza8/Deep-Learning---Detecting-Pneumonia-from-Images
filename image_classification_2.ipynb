{
 "cells": [
  {
   "cell_type": "code",
   "execution_count": 103,
   "metadata": {},
   "outputs": [],
   "source": [
    "import os\n",
    "import glob\n",
    "import cv2\n",
    "import numpy as np\n",
    "import pandas as pd\n",
    "from PIL import Image\n",
    "from pathlib import Path\n",
    "import tensorflow as tf\n",
    "from keras.models import Sequential, Model, load_model\n",
    "from keras.applications.vgg16 import VGG16, preprocess_input\n",
    "from keras.preprocessing.image import ImageDataGenerator\n",
    "from keras.layers import Conv2D, MaxPooling2D, Dense, Dropout, Input, Flatten, Activation\n",
    "from keras.optimizers import Adam, SGD, RMSprop\n",
    "from keras.callbacks import Callback, EarlyStopping\n",
    "from keras.utils import to_categorical, load_img, img_to_array\n",
    "from sklearn.metrics import confusion_matrix\n",
    "from keras import backend as K\n",
    "import matplotlib.pyplot as plt\n",
    "%matplotlib inline"
   ]
  },
  {
   "cell_type": "code",
   "execution_count": 104,
   "metadata": {},
   "outputs": [
    {
     "data": {
      "text/plain": [
       "['readme.txt', 'known_images', 'unknown_images']"
      ]
     },
     "execution_count": 104,
     "metadata": {},
     "output_type": "execute_result"
    }
   ],
   "source": [
    "os.listdir(\"dataset1/\")"
   ]
  },
  {
   "cell_type": "markdown",
   "metadata": {},
   "source": [
    "Load all the images"
   ]
  },
  {
   "cell_type": "code",
   "execution_count": 105,
   "metadata": {},
   "outputs": [],
   "source": [
    "def load_images():\n",
    "    images_dir = Path('dataset1/known_images/')\n",
    "    normal_images = images_dir.glob('normal*.png')\n",
    "    sick_images = images_dir.glob('sick*.png')\n",
    "    img_data = []\n",
    "    label_data = []\n",
    "    for img in normal_images:\n",
    "        img_data.append(img)\n",
    "        label_data.append('normal')\n",
    "    for img in sick_images:\n",
    "        img_data.append(img)\n",
    "        label_data.append('sick')\n",
    "    df = pd.DataFrame(img_data)\n",
    "    df.columns = ['images']\n",
    "    df['labels'] = label_data\n",
    "    df = df.sample(frac=1).reset_index(drop=True)\n",
    "    return df"
   ]
  },
  {
   "cell_type": "code",
   "execution_count": 106,
   "metadata": {},
   "outputs": [
    {
     "data": {
      "text/html": [
       "<div>\n",
       "<style scoped>\n",
       "    .dataframe tbody tr th:only-of-type {\n",
       "        vertical-align: middle;\n",
       "    }\n",
       "\n",
       "    .dataframe tbody tr th {\n",
       "        vertical-align: top;\n",
       "    }\n",
       "\n",
       "    .dataframe thead th {\n",
       "        text-align: right;\n",
       "    }\n",
       "</style>\n",
       "<table border=\"1\" class=\"dataframe\">\n",
       "  <thead>\n",
       "    <tr style=\"text-align: right;\">\n",
       "      <th></th>\n",
       "      <th>images</th>\n",
       "      <th>labels</th>\n",
       "    </tr>\n",
       "  </thead>\n",
       "  <tbody>\n",
       "    <tr>\n",
       "      <th>0</th>\n",
       "      <td>dataset1\\known_images\\normal_261.png</td>\n",
       "      <td>normal</td>\n",
       "    </tr>\n",
       "    <tr>\n",
       "      <th>1</th>\n",
       "      <td>dataset1\\known_images\\normal_673.png</td>\n",
       "      <td>normal</td>\n",
       "    </tr>\n",
       "    <tr>\n",
       "      <th>2</th>\n",
       "      <td>dataset1\\known_images\\normal_334.png</td>\n",
       "      <td>normal</td>\n",
       "    </tr>\n",
       "    <tr>\n",
       "      <th>3</th>\n",
       "      <td>dataset1\\known_images\\sick_186.png</td>\n",
       "      <td>sick</td>\n",
       "    </tr>\n",
       "    <tr>\n",
       "      <th>4</th>\n",
       "      <td>dataset1\\known_images\\sick_0.png</td>\n",
       "      <td>sick</td>\n",
       "    </tr>\n",
       "    <tr>\n",
       "      <th>...</th>\n",
       "      <td>...</td>\n",
       "      <td>...</td>\n",
       "    </tr>\n",
       "    <tr>\n",
       "      <th>710</th>\n",
       "      <td>dataset1\\known_images\\normal_98.png</td>\n",
       "      <td>normal</td>\n",
       "    </tr>\n",
       "    <tr>\n",
       "      <th>711</th>\n",
       "      <td>dataset1\\known_images\\sick_187.png</td>\n",
       "      <td>sick</td>\n",
       "    </tr>\n",
       "    <tr>\n",
       "      <th>712</th>\n",
       "      <td>dataset1\\known_images\\normal_62.png</td>\n",
       "      <td>normal</td>\n",
       "    </tr>\n",
       "    <tr>\n",
       "      <th>713</th>\n",
       "      <td>dataset1\\known_images\\normal_89.png</td>\n",
       "      <td>normal</td>\n",
       "    </tr>\n",
       "    <tr>\n",
       "      <th>714</th>\n",
       "      <td>dataset1\\known_images\\normal_94.png</td>\n",
       "      <td>normal</td>\n",
       "    </tr>\n",
       "  </tbody>\n",
       "</table>\n",
       "<p>715 rows × 2 columns</p>\n",
       "</div>"
      ],
      "text/plain": [
       "                                   images  labels\n",
       "0    dataset1\\known_images\\normal_261.png  normal\n",
       "1    dataset1\\known_images\\normal_673.png  normal\n",
       "2    dataset1\\known_images\\normal_334.png  normal\n",
       "3      dataset1\\known_images\\sick_186.png    sick\n",
       "4        dataset1\\known_images\\sick_0.png    sick\n",
       "..                                    ...     ...\n",
       "710   dataset1\\known_images\\normal_98.png  normal\n",
       "711    dataset1\\known_images\\sick_187.png    sick\n",
       "712   dataset1\\known_images\\normal_62.png  normal\n",
       "713   dataset1\\known_images\\normal_89.png  normal\n",
       "714   dataset1\\known_images\\normal_94.png  normal\n",
       "\n",
       "[715 rows x 2 columns]"
      ]
     },
     "execution_count": 106,
     "metadata": {},
     "output_type": "execute_result"
    }
   ],
   "source": [
    "df_known_images = load_images()\n",
    "\n",
    "df_known_images"
   ]
  },
  {
   "cell_type": "code",
   "execution_count": 107,
   "metadata": {},
   "outputs": [
    {
     "data": {
      "text/plain": [
       "(715, 2)"
      ]
     },
     "execution_count": 107,
     "metadata": {},
     "output_type": "execute_result"
    }
   ],
   "source": [
    "df_known_images.shape"
   ]
  },
  {
   "cell_type": "markdown",
   "metadata": {},
   "source": [
    "We now check if the data is balanced"
   ]
  },
  {
   "cell_type": "code",
   "execution_count": 108,
   "metadata": {},
   "outputs": [
    {
     "data": {
      "image/png": "[encoded data removed]",
      "text/plain": [
       "<Figure size 432x288 with 1 Axes>"
      ]
     },
     "metadata": {
      "needs_background": "light"
     },
     "output_type": "display_data"
    }
   ],
   "source": [
    "plt.bar(df_known_images['labels'].value_counts().index, df_known_images['labels'].value_counts().values)\n",
    "plt.show()"
   ]
  },
  {
   "cell_type": "markdown",
   "metadata": {},
   "source": [
    "Visualise some of the images"
   ]
  },
  {
   "cell_type": "code",
   "execution_count": 109,
   "metadata": {},
   "outputs": [],
   "source": [
    "def visualise_images(images, labels):\n",
    "    plt.figure(figsize=(10,5))\n",
    "    for i in range(10):\n",
    "        ax = plt.subplot(2,5,i+1)\n",
    "        img = cv2.imread(str(images[i]))\n",
    "        img = cv2.resize(img, (224, 224))\n",
    "        #img = cv2.cvtColor(img, cv2.COLOR_BGR2RGB)\n",
    "        plt.imshow(img)\n",
    "        plt.title(labels[i])\n",
    "        plt.axis('off')"
   ]
  },
  {
   "cell_type": "code",
   "execution_count": 110,
   "metadata": {},
   "outputs": [
    {
     "data": {
      "image/png": "[encoded data removed]",
      "text/plain": [
       "<Figure size 720x360 with 10 Axes>"
      ]
     },
     "metadata": {
      "needs_background": "light"
     },
     "output_type": "display_data"
    }
   ],
   "source": [
    "visualise_images(df_known_images['images'], df_known_images['labels'])"
   ]
  },
  {
   "cell_type": "markdown",
   "metadata": {},
   "source": [
    "Split the data into Test and Training"
   ]
  },
  {
   "cell_type": "code",
   "execution_count": 111,
   "metadata": {},
   "outputs": [],
   "source": [
    "def get_dataset_partitions_pd(df, train_split=0.8):\n",
    "    train=df.sample(frac=train_split,random_state=200) #random state is a seed value\n",
    "\n",
    "    test_validation=df.drop(train.index)\n",
    "\n",
    "    test=test_validation.sample(frac=0.5,random_state=200) \n",
    "\n",
    "    validation = test_validation.drop(test.index)\n",
    "\n",
    "    assert len(df) == len(train) + len(test) + len(validation) \n",
    "\n",
    "    return train, validation, test\n"
   ]
  },
  {
   "cell_type": "code",
   "execution_count": 112,
   "metadata": {},
   "outputs": [],
   "source": [
    "train_ds, val_ds, test_ds = get_dataset_partitions_pd(df_known_images)\n"
   ]
  },
  {
   "cell_type": "code",
   "execution_count": 113,
   "metadata": {},
   "outputs": [
    {
     "data": {
      "text/html": [
       "<div>\n",
       "<style scoped>\n",
       "    .dataframe tbody tr th:only-of-type {\n",
       "        vertical-align: middle;\n",
       "    }\n",
       "\n",
       "    .dataframe tbody tr th {\n",
       "        vertical-align: top;\n",
       "    }\n",
       "\n",
       "    .dataframe thead th {\n",
       "        text-align: right;\n",
       "    }\n",
       "</style>\n",
       "<table border=\"1\" class=\"dataframe\">\n",
       "  <thead>\n",
       "    <tr style=\"text-align: right;\">\n",
       "      <th></th>\n",
       "      <th>images</th>\n",
       "      <th>labels</th>\n",
       "    </tr>\n",
       "  </thead>\n",
       "  <tbody>\n",
       "    <tr>\n",
       "      <th>87</th>\n",
       "      <td>dataset1\\known_images\\sick_168.png</td>\n",
       "      <td>sick</td>\n",
       "    </tr>\n",
       "    <tr>\n",
       "      <th>188</th>\n",
       "      <td>dataset1\\known_images\\sick_154.png</td>\n",
       "      <td>sick</td>\n",
       "    </tr>\n",
       "    <tr>\n",
       "      <th>462</th>\n",
       "      <td>dataset1\\known_images\\normal_276.png</td>\n",
       "      <td>normal</td>\n",
       "    </tr>\n",
       "    <tr>\n",
       "      <th>567</th>\n",
       "      <td>dataset1\\known_images\\normal_29.png</td>\n",
       "      <td>normal</td>\n",
       "    </tr>\n",
       "    <tr>\n",
       "      <th>90</th>\n",
       "      <td>dataset1\\known_images\\sick_141.png</td>\n",
       "      <td>sick</td>\n",
       "    </tr>\n",
       "    <tr>\n",
       "      <th>...</th>\n",
       "      <td>...</td>\n",
       "      <td>...</td>\n",
       "    </tr>\n",
       "    <tr>\n",
       "      <th>284</th>\n",
       "      <td>dataset1\\known_images\\sick_184.png</td>\n",
       "      <td>sick</td>\n",
       "    </tr>\n",
       "    <tr>\n",
       "      <th>714</th>\n",
       "      <td>dataset1\\known_images\\normal_94.png</td>\n",
       "      <td>normal</td>\n",
       "    </tr>\n",
       "    <tr>\n",
       "      <th>187</th>\n",
       "      <td>dataset1\\known_images\\normal_13.png</td>\n",
       "      <td>normal</td>\n",
       "    </tr>\n",
       "    <tr>\n",
       "      <th>29</th>\n",
       "      <td>dataset1\\known_images\\sick_129.png</td>\n",
       "      <td>sick</td>\n",
       "    </tr>\n",
       "    <tr>\n",
       "      <th>611</th>\n",
       "      <td>dataset1\\known_images\\sick_146.png</td>\n",
       "      <td>sick</td>\n",
       "    </tr>\n",
       "  </tbody>\n",
       "</table>\n",
       "<p>72 rows × 2 columns</p>\n",
       "</div>"
      ],
      "text/plain": [
       "                                   images  labels\n",
       "87     dataset1\\known_images\\sick_168.png    sick\n",
       "188    dataset1\\known_images\\sick_154.png    sick\n",
       "462  dataset1\\known_images\\normal_276.png  normal\n",
       "567   dataset1\\known_images\\normal_29.png  normal\n",
       "90     dataset1\\known_images\\sick_141.png    sick\n",
       "..                                    ...     ...\n",
       "284    dataset1\\known_images\\sick_184.png    sick\n",
       "714   dataset1\\known_images\\normal_94.png  normal\n",
       "187   dataset1\\known_images\\normal_13.png  normal\n",
       "29     dataset1\\known_images\\sick_129.png    sick\n",
       "611    dataset1\\known_images\\sick_146.png    sick\n",
       "\n",
       "[72 rows x 2 columns]"
      ]
     },
     "execution_count": 113,
     "metadata": {},
     "output_type": "execute_result"
    }
   ],
   "source": [
    "test_ds"
   ]
  },
  {
   "cell_type": "code",
   "execution_count": 114,
   "metadata": {},
   "outputs": [
    {
     "data": {
      "image/png": "[encoded data removed]",
      "text/plain": [
       "<Figure size 432x288 with 1 Axes>"
      ]
     },
     "metadata": {
      "needs_background": "light"
     },
     "output_type": "display_data"
    }
   ],
   "source": [
    "plt.bar(train_ds['labels'].value_counts().index, train_ds['labels'].value_counts().values)\n",
    "plt.show()"
   ]
  },
  {
   "cell_type": "code",
   "execution_count": 115,
   "metadata": {},
   "outputs": [
    {
     "data": {
      "image/png": "[encoded data removed]",
      "text/plain": [
       "<Figure size 432x288 with 1 Axes>"
      ]
     },
     "metadata": {
      "needs_background": "light"
     },
     "output_type": "display_data"
    }
   ],
   "source": [
    "plt.bar(val_ds['labels'].value_counts().index, val_ds['labels'].value_counts().values)\n",
    "plt.show()"
   ]
  },
  {
   "cell_type": "code",
   "execution_count": 116,
   "metadata": {},
   "outputs": [
    {
     "data": {
      "image/png": "[encoded data removed]",
      "text/plain": [
       "<Figure size 432x288 with 1 Axes>"
      ]
     },
     "metadata": {
      "needs_background": "light"
     },
     "output_type": "display_data"
    }
   ],
   "source": [
    "plt.bar(test_ds['labels'].value_counts().index, test_ds['labels'].value_counts().values)\n",
    "plt.show()"
   ]
  },
  {
   "cell_type": "markdown",
   "metadata": {},
   "source": [
    "Prepare the Validation Dataset"
   ]
  },
  {
   "cell_type": "code",
   "execution_count": 117,
   "metadata": {},
   "outputs": [],
   "source": [
    "def prepare_dataset(images):\n",
    "\n",
    "    normal_cases = images.loc[images['labels'] == 'normal']\n",
    "    sick_cases = images.loc[images['labels'] == 'sick']\n",
    "    data, labels = ([] for x in range(2))\n",
    "    def prepare(case):\n",
    "        for img in case['images']:\n",
    "            img = cv2.imread(str(img))\n",
    "            img = cv2.resize(img,(224,224))\n",
    "            #img = cv2.resize(img,(800,800))\n",
    "            if img.shape[2] == 1:\n",
    "                img = np.dstack([img, img, img])\n",
    "            #img = cv2.cvtColor(img, cv2.COLOR_BGR2RGB)\n",
    "            img = img.astype(np.float32)/255.\n",
    "            if 'normal' in case['labels'].values:\n",
    "                #print(case['labels'])\n",
    "                label = to_categorical(0 , num_classes=2)\n",
    "            else:\n",
    "                #print(case['labels'])\n",
    "                label = to_categorical(1 , num_classes=2)\n",
    "            data.append(img)\n",
    "            labels.append(label)\n",
    "        return data, labels\n",
    "    prepare(normal_cases)\n",
    "    d,l = prepare(sick_cases)\n",
    "    #print(l)\n",
    "    d = np.array(d)\n",
    "    l = np.array(l)\n",
    "    return d,l"
   ]
  },
  {
   "cell_type": "code",
   "execution_count": 118,
   "metadata": {},
   "outputs": [],
   "source": [
    "val_data, val_labels = prepare_dataset(val_ds)\n",
    "#print(val_data)"
   ]
  },
  {
   "cell_type": "markdown",
   "metadata": {},
   "source": [
    "We’ll now write a function to generate images in batches from the train set."
   ]
  },
  {
   "cell_type": "code",
   "execution_count": 119,
   "metadata": {},
   "outputs": [],
   "source": [
    "def data_gen(data, batch_size):\n",
    "    # Get total number of samples in the data\n",
    "    n = len(data)\n",
    "    steps = n//batch_size\n",
    "\n",
    "    # define two numpy arrays for containing batch data and labels\n",
    "    batch_data = np.zeros((batch_size, 224, 224, 3), dtype=np.float32) \n",
    "    batch_labels = np.zeros((batch_size, 2), dtype=np.float32)\n",
    "\n",
    "    # get a numpy array of all the indices of the input data\n",
    "    indices = np.arange(n) \n",
    "\n",
    "    # initialize a counter\n",
    "    i = 0\n",
    "    while True:\n",
    "        np.random.shuffle(indices)\n",
    "        # Get the next batch\n",
    "        count = 0\n",
    "        next_batch = indices[(i*batch_size):(i+1)*batch_size]\n",
    "        for j, idx in enumerate(next_batch):\n",
    "            img_name = data.iloc[idx]['images']\n",
    "            label = data.iloc[idx]['labels']\n",
    "            if label=='normal':\n",
    "                label=0\n",
    "            else:\n",
    "                label=1\n",
    "            #one hot encoding\n",
    "            encoded_label = to_categorical(label, num_classes=2)\n",
    "\n",
    "            # read the image and resize\n",
    "            img = cv2.imread(str(img_name))\n",
    "            img = cv2.resize(img, (224, 224))\n",
    "\n",
    "            # check if it's grayscale\n",
    "            if img.shape[2] == 1:\n",
    "                img = np.dstack([img, img, img])\n",
    "            \n",
    "            # cv2 reads in BGR mode by default\n",
    "\n",
    "            #orig_img = cv2.cvtColor(img, cv2.COLOR_BGR2RGB)\n",
    "            \n",
    "            # normalize the image pixels\n",
    "            orig_img = img.astype(np.float32)/255.\n",
    "\n",
    "            batch_data[count] = orig_img\n",
    "            batch_labels[count] = encoded_label\n",
    "\n",
    "            count+=1\n",
    "\n",
    "            if count==batch_size-1:\n",
    "                break\n",
    "        \n",
    "        i+=1\n",
    "        yield batch_data, batch_labels\n",
    "\n",
    "        if i>=steps:\n",
    "            i=0\n",
    "\n"
   ]
  },
  {
   "cell_type": "code",
   "execution_count": 120,
   "metadata": {},
   "outputs": [
    {
     "data": {
      "text/plain": [
       "<generator object data_gen at 0x0000020396B743C0>"
      ]
     },
     "execution_count": 120,
     "metadata": {},
     "output_type": "execute_result"
    }
   ],
   "source": [
    "# Testing the data generation function\n",
    "data_gen(train_ds, 160)"
   ]
  },
  {
   "cell_type": "markdown",
   "metadata": {},
   "source": [
    "We now build the Deep Learning CNN Model for prediction"
   ]
  },
  {
   "cell_type": "code",
   "execution_count": 121,
   "metadata": {},
   "outputs": [],
   "source": [
    "model = Sequential()\n",
    "model.add(Conv2D(32, (3,3), input_shape = (224, 224, 3)))\n",
    "model.add(Activation('relu'))\n",
    "model.add(MaxPooling2D(pool_size=(2,2)))\n",
    "\n",
    "model.add(Conv2D(32, (3,3)))\n",
    "model.add(Activation('relu'))\n",
    "model.add(MaxPooling2D(pool_size=(2,2)))\n",
    "\n",
    "model.add(Conv2D(64, (3,3)))\n",
    "model.add(Activation('relu'))\n",
    "model.add(MaxPooling2D(pool_size=(2,2)))\n",
    "\n",
    "model.add(Flatten()) # this converts our 3D feature maps to 1D feature vectors\n",
    "\n",
    "model.add(Dense(64))\n",
    "model.add(Activation('relu'))\n",
    "model.add(Dense(2))\n",
    "model.add(Activation('softmax'))\n",
    "\n"
   ]
  },
  {
   "cell_type": "markdown",
   "metadata": {},
   "source": [
    "A ReLu activation is applied after every convolution to transform the output values between the range 0 to 1. Max pooling is used to downsample the input representation. It helps the model to deal with overfitting by providing an abstract representation and also reduces the computational cost. "
   ]
  },
  {
   "cell_type": "code",
   "execution_count": 122,
   "metadata": {},
   "outputs": [
    {
     "name": "stdout",
     "output_type": "stream",
     "text": [
      "(572, 2)\n",
      "<generator object data_gen at 0x00000203ADF737D0>\n",
      "Number of training and validation steps: 35 and 71 \n"
     ]
    }
   ],
   "source": [
    "batch_size = 16\n",
    "nb_epochs = 3\n",
    "\n",
    "# Fetch the training data from the generator\n",
    "train_data_gen = data_gen(data=train_ds, batch_size=batch_size)\n",
    "\n",
    "# define number of training steps\n",
    "nb_train_steps =  train_ds.shape[0]//batch_size\n",
    "\n",
    "print(train_ds.shape)\n",
    "\n",
    "print(train_data_gen)\n",
    "\n",
    "print(\"Number of training and validation steps: {} and {} \".format(nb_train_steps, len(val_ds)))"
   ]
  },
  {
   "cell_type": "markdown",
   "metadata": {},
   "source": [
    "Batch size refers to the number of images fed to the network in a single forward pass. On the other hand, the number of epochs determines the number of times our network would process the whole training data. The number of training steps is the number of steps in one epoch and is calculated by dividing the size of our training data by the batch size. "
   ]
  },
  {
   "cell_type": "markdown",
   "metadata": {},
   "source": [
    "We’ll use binary cross-entropy as our loss function because we have only 2 classes. Rmsprop will be our optimizer function. Let’s start training."
   ]
  },
  {
   "cell_type": "code",
   "execution_count": 123,
   "metadata": {},
   "outputs": [
    {
     "name": "stdout",
     "output_type": "stream",
     "text": [
      "Epoch 1/3\n",
      "35/35 [==============================] - 19s 531ms/step - loss: 0.5638 - accuracy: 0.6857 - val_loss: 0.5904 - val_accuracy: 0.6620\n",
      "Epoch 2/3\n",
      "35/35 [==============================] - 21s 614ms/step - loss: 0.2824 - accuracy: 0.8357 - val_loss: 0.2895 - val_accuracy: 0.9014\n",
      "Epoch 3/3\n",
      "35/35 [==============================] - 21s 605ms/step - loss: 0.1379 - accuracy: 0.8839 - val_loss: 0.2282 - val_accuracy: 0.9155\n"
     ]
    }
   ],
   "source": [
    "model.compile(loss='binary_crossentropy',\n",
    "            optimizer='rmsprop',\n",
    "            metrics=['accuracy'])\n",
    "\n",
    "# Fit the model\n",
    "history = model.fit(train_data_gen, epochs=nb_epochs, steps_per_epoch=nb_train_steps, validation_data=(val_data,val_labels))"
   ]
  },
  {
   "cell_type": "code",
   "execution_count": 124,
   "metadata": {},
   "outputs": [
    {
     "name": "stdout",
     "output_type": "stream",
     "text": [
      "(72, 224, 224, 3)\n"
     ]
    }
   ],
   "source": [
    "test_data, test_labels = prepare_dataset(test_ds)\n",
    "print(test_data.shape)"
   ]
  },
  {
   "cell_type": "code",
   "execution_count": 125,
   "metadata": {},
   "outputs": [
    {
     "name": "stdout",
     "output_type": "stream",
     "text": [
      "5/5 [==============================] - 0s 83ms/step - loss: 0.1328 - accuracy: 0.9861\n",
      "Loss and accuracy 0.13282592594623566 & 0.9861111044883728\n"
     ]
    }
   ],
   "source": [
    "loss, acc = model.evaluate(test_data, test_labels,batch_size=16)\n",
    "print('Loss and accuracy',loss,'&',acc)"
   ]
  },
  {
   "cell_type": "code",
   "execution_count": 126,
   "metadata": {},
   "outputs": [
    {
     "name": "stdout",
     "output_type": "stream",
     "text": [
      "5/5 [==============================] - 0s 81ms/step\n",
      "              precision    recall  f1-score   support\n",
      "\n",
      "           0       0.97      1.00      0.99        34\n",
      "           1       1.00      0.97      0.99        38\n",
      "\n",
      "    accuracy                           0.99        72\n",
      "   macro avg       0.99      0.99      0.99        72\n",
      "weighted avg       0.99      0.99      0.99        72\n",
      "\n"
     ]
    }
   ],
   "source": [
    "# Get predictions\n",
    "pred = model.predict(test_data, batch_size=16)\n",
    "pred = np.argmax(pred, axis=-1)\n",
    "\n",
    "# original labels\n",
    "labels = np.argmax(test_labels, axis=-1)\n",
    "from sklearn.metrics import classification_report\n",
    "print(classification_report(labels, pred))"
   ]
  },
  {
   "cell_type": "code",
   "execution_count": 127,
   "metadata": {},
   "outputs": [
    {
     "data": {
      "text/plain": [
       "<AxesSubplot:>"
      ]
     },
     "execution_count": 127,
     "metadata": {},
     "output_type": "execute_result"
    },
    {
     "data": {
      "image/png": "[encoded data removed]",
      "text/plain": [
       "<Figure size 432x288 with 2 Axes>"
      ]
     },
     "metadata": {
      "needs_background": "light"
     },
     "output_type": "display_data"
    }
   ],
   "source": [
    "import seaborn as sns\n",
    "\n",
    "# Get the confusion matrix\n",
    "cm = confusion_matrix(labels, pred)\n",
    "sns.heatmap(cm, annot=True, fmt='g', xticklabels=['normal', 'sick'],yticklabels=['normal', 'sick'] )"
   ]
  },
  {
   "cell_type": "markdown",
   "metadata": {},
   "source": [
    "It is quite evident that our validation accuracy is not that good. <br>There are a number of tricks that you can use to get good performance.\n",
    "<ul>\n",
    "<li>Change the batch size.</li>\n",
    "<li>Train for more epochs.</li>\n",
    "<li>Use a different optimizer.</li> \n",
    "<li>Tweak the neural network by adding/ removing layers.</li>\n",
    "</ul>\n",
    "<br>\n",
    "The list can really go on. The important thing to note here is that trying out all these things is time-consuming and it may or may not work.\n",
    "\n",
    "So, what’s the alternative?"
   ]
  },
  {
   "cell_type": "markdown",
   "metadata": {},
   "source": [
    "**Transfer Learning** <br>\n",
    "Training a neural network from scratch can require a lot of data, processing power, and time which can be unavailable or impractical most times. Transfer learning is a technique of using pre-trained neural networks that are trained on billions of images( like Alexnet, Inception net, VGG16)  on a different task by changing the last classification layer. Now, you might be thinking what’s the benefit and how this works? Like I have mentioned above, the initial layers learn very general features and as we go higher up in the network, the layers tend to learn patterns more specific to the task it is being trained on. Since the pre-trained models are trained on a huge number of images they can do a better job at learning these abstract features than the neural network written from scratch."
   ]
  },
  {
   "cell_type": "markdown",
   "metadata": {},
   "source": [
    "We will use pre-trained VGG16 "
   ]
  },
  {
   "cell_type": "code",
   "execution_count": 128,
   "metadata": {},
   "outputs": [],
   "source": [
    "def vgg16_model(num_of_classes = None):\n",
    "    model = VGG16(weights='imagenet', include_top=True, input_shape=(224, 224, 3))\n",
    "\n",
    "    x=Dense(1024, activation='relu')(model.layers[-4].output)\n",
    "    x=Dropout(0.7)(x)\n",
    "    x=Dense(512, activation='relu')(x)\n",
    "    x=Dropout(0.5)(x)\n",
    "    x=Dense(2, activation='softmax')(x)\n",
    "    model=Model(model.input, x)\n",
    "\n",
    "    return model"
   ]
  },
  {
   "cell_type": "code",
   "execution_count": 129,
   "metadata": {},
   "outputs": [],
   "source": [
    "vgg_conv = vgg16_model(2)\n",
    "for layer in vgg_conv.layers[:-10]:\n",
    "    layer.trainable = False"
   ]
  },
  {
   "cell_type": "code",
   "execution_count": 130,
   "metadata": {},
   "outputs": [],
   "source": [
    "opt =  Adam(learning_rate=0.0001, decay=1e-5)\n",
    "vgg_conv.compile(loss='binary_crossentropy', metrics=['accuracy'], optimizer=opt)"
   ]
  },
  {
   "cell_type": "code",
   "execution_count": 131,
   "metadata": {},
   "outputs": [
    {
     "name": "stdout",
     "output_type": "stream",
     "text": [
      "Epoch 1/3\n",
      "35/35 [==============================] - 102s 3s/step - loss: 0.3548 - accuracy: 0.6750 - val_loss: 0.3992 - val_accuracy: 0.8732\n",
      "Epoch 2/3\n",
      "35/35 [==============================] - 102s 3s/step - loss: 0.0964 - accuracy: 0.9107 - val_loss: 0.3634 - val_accuracy: 0.9155\n",
      "Epoch 3/3\n",
      "35/35 [==============================] - 99s 3s/step - loss: 0.0601 - accuracy: 0.9464 - val_loss: 0.1917 - val_accuracy: 0.9437\n"
     ]
    }
   ],
   "source": [
    "# Fit the model\n",
    "history = vgg_conv.fit(train_data_gen, epochs=nb_epochs, steps_per_epoch=nb_train_steps, validation_data=(val_data,val_labels),\n",
    "                        class_weight={0:1.0, 1:0.4})"
   ]
  },
  {
   "cell_type": "code",
   "execution_count": 132,
   "metadata": {},
   "outputs": [],
   "source": [
    "test_data, test_labels = prepare_dataset(test_ds)"
   ]
  },
  {
   "cell_type": "markdown",
   "metadata": {},
   "source": [
    "Now let's test performance of the model against the test dataset"
   ]
  },
  {
   "cell_type": "code",
   "execution_count": 133,
   "metadata": {},
   "outputs": [
    {
     "name": "stdout",
     "output_type": "stream",
     "text": [
      "5/5 [==============================] - 9s 2s/step - loss: 0.1217 - accuracy: 0.9861\n",
      "Loss and accuracy 0.12171958386898041 & 0.9861111044883728\n"
     ]
    }
   ],
   "source": [
    "loss, acc = vgg_conv.evaluate(test_data, test_labels,batch_size=16)\n",
    "print('Loss and accuracy',loss,'&',acc)"
   ]
  },
  {
   "cell_type": "code",
   "execution_count": 134,
   "metadata": {},
   "outputs": [
    {
     "name": "stdout",
     "output_type": "stream",
     "text": [
      "5/5 [==============================] - 9s 2s/step\n",
      "              precision    recall  f1-score   support\n",
      "\n",
      "           0       1.00      0.97      0.99        34\n",
      "           1       0.97      1.00      0.99        38\n",
      "\n",
      "    accuracy                           0.99        72\n",
      "   macro avg       0.99      0.99      0.99        72\n",
      "weighted avg       0.99      0.99      0.99        72\n",
      "\n"
     ]
    }
   ],
   "source": [
    "# Get predictions\n",
    "pred = vgg_conv.predict(test_data, batch_size=16)\n",
    "pred = np.argmax(pred, axis=-1)\n",
    "\n",
    "# original labels\n",
    "labels = np.argmax(test_labels, axis=-1)\n",
    "from sklearn.metrics import classification_report\n",
    "print(classification_report(labels, pred))"
   ]
  },
  {
   "cell_type": "code",
   "execution_count": 135,
   "metadata": {},
   "outputs": [
    {
     "data": {
      "text/plain": [
       "<AxesSubplot:>"
      ]
     },
     "execution_count": 135,
     "metadata": {},
     "output_type": "execute_result"
    },
    {
     "data": {
      "image/png": "[encoded data removed]",
      "text/plain": [
       "<Figure size 432x288 with 2 Axes>"
      ]
     },
     "metadata": {
      "needs_background": "light"
     },
     "output_type": "display_data"
    }
   ],
   "source": [
    "import seaborn as sns\n",
    "\n",
    "# Get the confusion matrix\n",
    "cm = confusion_matrix(labels, pred)\n",
    "sns.heatmap(cm, annot=True, fmt='g', xticklabels=['normal', 'sick'],yticklabels=['normal', 'sick'] )"
   ]
  },
  {
   "cell_type": "markdown",
   "metadata": {},
   "source": [
    "We now label the unknown images.<br>\n",
    "Let us first load them"
   ]
  },
  {
   "cell_type": "code",
   "execution_count": 136,
   "metadata": {},
   "outputs": [],
   "source": [
    "def load_unknown_images():\n",
    "    images_dir = Path('dataset1/unknown_images/')\n",
    "    images = images_dir.glob('*.png')\n",
    "    img_data = []\n",
    "    for img in images:\n",
    "        img_data.append(img)\n",
    "    df = pd.DataFrame(img_data)\n",
    "    df.columns = ['images']\n",
    "    df = df.sample(frac=1).reset_index(drop=True)\n",
    "    return df"
   ]
  },
  {
   "cell_type": "code",
   "execution_count": 137,
   "metadata": {},
   "outputs": [
    {
     "data": {
      "text/plain": [
       "(50, 1)"
      ]
     },
     "execution_count": 137,
     "metadata": {},
     "output_type": "execute_result"
    }
   ],
   "source": [
    "df_unknown_images = load_unknown_images()\n",
    "\n",
    "df_unknown_images.shape"
   ]
  },
  {
   "cell_type": "code",
   "execution_count": 138,
   "metadata": {},
   "outputs": [],
   "source": [
    "def prepare_dataset_unknown(images):\n",
    "  \n",
    "    data = []\n",
    "    def prepare(case):\n",
    "        for img in case['images']:\n",
    "            img = cv2.imread(str(img))\n",
    "            img = cv2.resize(img,(224,224))\n",
    "            if img.shape[2] == 1:\n",
    "                img = np.dstack([img, img, img])\n",
    "            #img = cv2.cvtColor(img, cv2.COLOR_BGR2RGB)\n",
    "            img = img.astype(np.float32)/255.\n",
    "            data.append(img)\n",
    "        return data\n",
    "    \n",
    "    d = prepare(images)\n",
    "    #print(l)\n",
    "    d = np.array(d)\n",
    "    return d"
   ]
  },
  {
   "cell_type": "code",
   "execution_count": 139,
   "metadata": {},
   "outputs": [],
   "source": [
    "unknown_data = prepare_dataset_unknown(df_unknown_images)"
   ]
  },
  {
   "cell_type": "code",
   "execution_count": 140,
   "metadata": {},
   "outputs": [
    {
     "data": {
      "text/plain": [
       "(50, 224, 224, 3)"
      ]
     },
     "execution_count": 140,
     "metadata": {},
     "output_type": "execute_result"
    }
   ],
   "source": [
    "unknown_data.shape"
   ]
  },
  {
   "cell_type": "code",
   "execution_count": 141,
   "metadata": {},
   "outputs": [
    {
     "name": "stdout",
     "output_type": "stream",
     "text": [
      "4/4 [==============================] - 6s 1s/step\n",
      "[0 0 1 1 1 0 0 0 1 1 0 1 0 1 1 0 0 0 1 1 0 0 0 0 0 1 1 0 1 0 0 0 0 0 1 1 1\n",
      " 1 1 0 1 1 1 1 0 0 1 1 1 0]\n"
     ]
    }
   ],
   "source": [
    "# Get predictions\n",
    "pred = vgg_conv.predict(unknown_data, batch_size=16)\n",
    "#print(pred)\n",
    "pred = np.argmax(pred, axis=-1)\n",
    "print(pred)"
   ]
  },
  {
   "cell_type": "code",
   "execution_count": 142,
   "metadata": {},
   "outputs": [],
   "source": [
    "df_unknown_images[\"predictions (0-Normal, 1-Sick)\"] = pred\n",
    "submission = df_unknown_images[[\"images\",\"predictions (0-Normal, 1-Sick)\"]]\n",
    "submission.to_csv(\"predictions_2.csv\", index=False)"
   ]
  },
  {
   "cell_type": "markdown",
   "metadata": {},
   "source": [
    "We now measure the performance of our model using dataset2"
   ]
  },
  {
   "cell_type": "code",
   "execution_count": 143,
   "metadata": {},
   "outputs": [],
   "source": [
    "# Loading dataset 2 into a dataframe\n",
    "\n",
    "def load_dataset2_images():\n",
    "    images_dir = Path('dataset2/images/')\n",
    "    images = images_dir.glob('*.png')\n",
    "    img_data = []\n",
    "    for img in images:\n",
    "        img_data.append(img)\n",
    "    df = pd.DataFrame(img_data)\n",
    "    df.columns = ['images']\n",
    "    df = df.sample(frac=1).reset_index(drop=True)\n",
    "    return df"
   ]
  },
  {
   "cell_type": "code",
   "execution_count": 144,
   "metadata": {},
   "outputs": [
    {
     "name": "stdout",
     "output_type": "stream",
     "text": [
      "                             images\n",
      "0     dataset2\\images\\sick_eif7.png\n",
      "1    dataset2\\images\\sick_eff63.png\n",
      "2    dataset2\\images\\sick_eif68.png\n",
      "3    dataset2\\images\\sick_eff48.png\n",
      "4     dataset2\\images\\sick_eff4.png\n",
      "..                              ...\n",
      "219  dataset2\\images\\sick_eff38.png\n",
      "220  dataset2\\images\\sick_eif71.png\n",
      "221  dataset2\\images\\sick_eff66.png\n",
      "222  dataset2\\images\\sick_eif62.png\n",
      "223  dataset2\\images\\sick_eff84.png\n",
      "\n",
      "[224 rows x 1 columns]\n"
     ]
    }
   ],
   "source": [
    "dataset2 = load_dataset2_images()\n",
    "print(dataset2)"
   ]
  },
  {
   "cell_type": "code",
   "execution_count": 145,
   "metadata": {},
   "outputs": [
    {
     "name": "stdout",
     "output_type": "stream",
     "text": [
      "Index(['patient', 'diagnosis (0-Normal, 1-Sick)'], dtype='object')\n"
     ]
    }
   ],
   "source": [
    "# Reading the csv containing the image classes\n",
    "\n",
    "dataset2_classes = pd.read_csv('dataset2/image_classes.csv')\n",
    "print(dataset2_classes.columns)"
   ]
  },
  {
   "cell_type": "code",
   "execution_count": 146,
   "metadata": {},
   "outputs": [
    {
     "name": "stdout",
     "output_type": "stream",
     "text": [
      "Index(['images', 'patient'], dtype='object')\n"
     ]
    }
   ],
   "source": [
    "from pathlib import Path\n",
    "dataset2['patient'] = dataset2['images'].apply(lambda path: Path(path).stem)\n",
    "print(dataset2.columns)"
   ]
  },
  {
   "cell_type": "code",
   "execution_count": 147,
   "metadata": {},
   "outputs": [
    {
     "name": "stdout",
     "output_type": "stream",
     "text": [
      "Index(['patient', 'diagnosis (0-Normal, 1-Sick)', 'images'], dtype='object')\n",
      "         patient  diagnosis (0-Normal, 1-Sick)  \\\n",
      "0      sick_eff0                             0   \n",
      "1      sick_eff1                             0   \n",
      "2      sick_eff2                             0   \n",
      "3      sick_eff3                             0   \n",
      "4      sick_eff4                             0   \n",
      "..           ...                           ...   \n",
      "219  sick_eif107                             1   \n",
      "220  sick_eif108                             1   \n",
      "221  sick_eif109                             1   \n",
      "222  sick_eif110                             1   \n",
      "223  sick_eif111                             1   \n",
      "\n",
      "                              images  diagnosis  \n",
      "0      dataset2\\images\\sick_eff0.png          0  \n",
      "1      dataset2\\images\\sick_eff1.png          0  \n",
      "2      dataset2\\images\\sick_eff2.png          0  \n",
      "3      dataset2\\images\\sick_eff3.png          0  \n",
      "4      dataset2\\images\\sick_eff4.png          0  \n",
      "..                               ...        ...  \n",
      "219  dataset2\\images\\sick_eif107.png          1  \n",
      "220  dataset2\\images\\sick_eif108.png          1  \n",
      "221  dataset2\\images\\sick_eif109.png          1  \n",
      "222  dataset2\\images\\sick_eif110.png          1  \n",
      "223  dataset2\\images\\sick_eif111.png          1  \n",
      "\n",
      "[224 rows x 4 columns]\n"
     ]
    }
   ],
   "source": [
    "# merging the image classes to the image path\n",
    "\n",
    "dataset2_merged = pd.merge(dataset2_classes, dataset2, how='left', left_on='patient', right_on='patient')\n",
    "\n",
    "print(dataset2_merged.columns)\n",
    "\n",
    "dataset2_merged['diagnosis'] = dataset2_merged['diagnosis (0-Normal, 1-Sick)']\n",
    "\n",
    "print(dataset2_merged)"
   ]
  },
  {
   "cell_type": "code",
   "execution_count": 148,
   "metadata": {},
   "outputs": [],
   "source": [
    "def prepare_dataset2(images):\n",
    " \n",
    "    normal_cases = images.loc[images['diagnosis'] == 0]\n",
    "    \n",
    "    sick_cases = images.loc[images['diagnosis'] == 1]\n",
    "\n",
    "    print(sick_cases)\n",
    "    data, labels = ([] for x in range(2))\n",
    "    def prepare(case):\n",
    "        for img in case['images']:\n",
    "            img = cv2.imread(str(img))\n",
    "            img = cv2.resize(img,(224,224))\n",
    "            if img.shape[2] == 1:\n",
    "                img = np.dstack([img, img, img])\n",
    "            #img = cv2.cvtColor(img, cv2.COLOR_BGR2RGB)\n",
    "            img = img.astype(np.float32)/255.\n",
    "            if 0 in case['diagnosis'].values:\n",
    "                #print(case['labels'])\n",
    "                label = to_categorical(0 , num_classes=2)\n",
    "            else:\n",
    "                #print(case['diagnosis'])\n",
    "                label = to_categorical(1 , num_classes=2)\n",
    "            data.append(img)\n",
    "            labels.append(label)\n",
    "        return data, labels\n",
    "    prepare(normal_cases)\n",
    "    d,l = prepare(sick_cases)\n",
    "    #print(l)\n",
    "    d = np.array(d)\n",
    "    l = np.array(l)\n",
    "    return d,l"
   ]
  },
  {
   "cell_type": "code",
   "execution_count": 149,
   "metadata": {},
   "outputs": [
    {
     "name": "stdout",
     "output_type": "stream",
     "text": [
      "         patient  diagnosis (0-Normal, 1-Sick)  \\\n",
      "112    sick_eif0                             1   \n",
      "113    sick_eif1                             1   \n",
      "114    sick_eif2                             1   \n",
      "115    sick_eif3                             1   \n",
      "116    sick_eif4                             1   \n",
      "..           ...                           ...   \n",
      "219  sick_eif107                             1   \n",
      "220  sick_eif108                             1   \n",
      "221  sick_eif109                             1   \n",
      "222  sick_eif110                             1   \n",
      "223  sick_eif111                             1   \n",
      "\n",
      "                              images  diagnosis  \n",
      "112    dataset2\\images\\sick_eif0.png          1  \n",
      "113    dataset2\\images\\sick_eif1.png          1  \n",
      "114    dataset2\\images\\sick_eif2.png          1  \n",
      "115    dataset2\\images\\sick_eif3.png          1  \n",
      "116    dataset2\\images\\sick_eif4.png          1  \n",
      "..                               ...        ...  \n",
      "219  dataset2\\images\\sick_eif107.png          1  \n",
      "220  dataset2\\images\\sick_eif108.png          1  \n",
      "221  dataset2\\images\\sick_eif109.png          1  \n",
      "222  dataset2\\images\\sick_eif110.png          1  \n",
      "223  dataset2\\images\\sick_eif111.png          1  \n",
      "\n",
      "[112 rows x 4 columns]\n"
     ]
    },
    {
     "data": {
      "text/plain": [
       "(224, 224, 224, 3)"
      ]
     },
     "execution_count": 149,
     "metadata": {},
     "output_type": "execute_result"
    }
   ],
   "source": [
    "d2_data, d2_labels = prepare_dataset2(dataset2_merged)\n",
    "dataset2_merged.shape\n",
    "d2_data.shape"
   ]
  },
  {
   "cell_type": "code",
   "execution_count": 154,
   "metadata": {},
   "outputs": [
    {
     "name": "stdout",
     "output_type": "stream",
     "text": [
      "14/14 [==============================] - 27s 2s/step\n",
      "              precision    recall  f1-score   support\n",
      "\n",
      "           0       0.40      0.07      0.12       112\n",
      "           1       0.49      0.89      0.63       112\n",
      "\n",
      "    accuracy                           0.48       224\n",
      "   macro avg       0.45      0.48      0.38       224\n",
      "weighted avg       0.45      0.48      0.38       224\n",
      "\n"
     ]
    }
   ],
   "source": [
    "# Get predictions\n",
    "pred = vgg_conv.predict(d2_data, batch_size=16)\n",
    "#pred = model.predict(d2_data, batch_size=16)\n",
    "pred = np.argmax(pred, axis=-1)\n",
    "\n",
    "# original labels\n",
    "labels = np.argmax(d2_labels, axis=-1)\n",
    "from sklearn.metrics import classification_report\n",
    "print(classification_report(labels, pred))\n"
   ]
  },
  {
   "cell_type": "code",
   "execution_count": 155,
   "metadata": {},
   "outputs": [
    {
     "data": {
      "text/plain": [
       "<AxesSubplot:>"
      ]
     },
     "execution_count": 155,
     "metadata": {},
     "output_type": "execute_result"
    },
    {
     "data": {
      "image/png": "[encoded data removed]",
      "text/plain": [
       "<Figure size 432x288 with 2 Axes>"
      ]
     },
     "metadata": {
      "needs_background": "light"
     },
     "output_type": "display_data"
    }
   ],
   "source": [
    "import seaborn as sns\n",
    "\n",
    "# Get the confusion matrix\n",
    "cm = confusion_matrix(labels, pred)\n",
    "sns.heatmap(cm, annot=True, fmt='g', xticklabels=['normal', 'sick'],yticklabels=['normal', 'sick'] )"
   ]
  }
 ],
 "metadata": {
  "kernelspec": {
   "display_name": "Python 3.10.2 64-bit",
   "language": "python",
   "name": "python3"
  },
  "language_info": {
   "codemirror_mode": {
    "name": "ipython",
    "version": 3
   },
   "file_extension": ".py",
   "mimetype": "text/x-python",
   "name": "python",
   "nbconvert_exporter": "python",
   "pygments_lexer": "ipython3",
   "version": "3.10.2"
  },
  "orig_nbformat": 4,
  "vscode": {
   "interpreter": {
    "hash": "5904c03de541aee3171dc2d946da9df85831543bc9d72f4542217b15b1550de6"
   }
  }
 },
 "nbformat": 4,
 "nbformat_minor": 2
}
