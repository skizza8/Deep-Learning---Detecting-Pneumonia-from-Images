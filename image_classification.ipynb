{
 "cells": [
  {
   "cell_type": "code",
   "execution_count": 772,
   "metadata": {},
   "outputs": [],
   "source": [
    "import os\n",
    "import glob\n",
    "import cv2\n",
    "import numpy as np\n",
    "import pandas as pd\n",
    "from PIL import Image\n",
    "from pathlib import Path\n",
    "import tensorflow as tf\n",
    "from keras.models import Sequential, Model, load_model\n",
    "from keras.applications.vgg16 import VGG16, preprocess_input\n",
    "from keras.preprocessing.image import ImageDataGenerator\n",
    "from keras.layers import Conv2D, MaxPooling2D, Dense, Dropout, Input, Flatten, Activation\n",
    "from keras.optimizers import Adam, SGD, RMSprop\n",
    "from keras.callbacks import Callback, EarlyStopping\n",
    "from keras.utils import to_categorical, load_img, img_to_array\n",
    "from sklearn.metrics import confusion_matrix\n",
    "from keras import backend as K\n",
    "import matplotlib.pyplot as plt\n",
    "%matplotlib inline\n",
    "\n",
    "import keras\n",
    "from keras import layers\n"
   ]
  },
  {
   "cell_type": "code",
   "execution_count": 773,
   "metadata": {},
   "outputs": [
    {
     "data": {
      "text/plain": [
       "['readme.txt', 'known_images', 'unknown_images']"
      ]
     },
     "execution_count": 773,
     "metadata": {},
     "output_type": "execute_result"
    }
   ],
   "source": [
    "os.listdir(\"dataset1/\")"
   ]
  },
  {
   "cell_type": "markdown",
   "metadata": {},
   "source": [
    "Load all the images"
   ]
  },
  {
   "cell_type": "code",
   "execution_count": 774,
   "metadata": {},
   "outputs": [],
   "source": [
    "def load_images():\n",
    "    images_dir = Path('dataset1/known_images/')\n",
    "    normal_images = images_dir.glob('normal*.png')\n",
    "    sick_images = images_dir.glob('sick*.png')\n",
    "    img_data = []\n",
    "    label_data = []\n",
    "    for img in normal_images:\n",
    "        img_data.append(img)\n",
    "        label_data.append('normal')\n",
    "    for img in sick_images:\n",
    "        img_data.append(img)\n",
    "        label_data.append('sick')\n",
    "    df = pd.DataFrame(img_data)\n",
    "    df.columns = ['images']\n",
    "    df['labels'] = label_data\n",
    "    df = df.sample(frac=1).reset_index(drop=True)\n",
    "    return df"
   ]
  },
  {
   "cell_type": "code",
   "execution_count": 775,
   "metadata": {},
   "outputs": [
    {
     "data": {
      "text/html": [
       "<div>\n",
       "<style scoped>\n",
       "    .dataframe tbody tr th:only-of-type {\n",
       "        vertical-align: middle;\n",
       "    }\n",
       "\n",
       "    .dataframe tbody tr th {\n",
       "        vertical-align: top;\n",
       "    }\n",
       "\n",
       "    .dataframe thead th {\n",
       "        text-align: right;\n",
       "    }\n",
       "</style>\n",
       "<table border=\"1\" class=\"dataframe\">\n",
       "  <thead>\n",
       "    <tr style=\"text-align: right;\">\n",
       "      <th></th>\n",
       "      <th>images</th>\n",
       "      <th>labels</th>\n",
       "    </tr>\n",
       "  </thead>\n",
       "  <tbody>\n",
       "    <tr>\n",
       "      <th>0</th>\n",
       "      <td>dataset1\\known_images\\normal_182.png</td>\n",
       "      <td>normal</td>\n",
       "    </tr>\n",
       "    <tr>\n",
       "      <th>1</th>\n",
       "      <td>dataset1\\known_images\\sick_32.png</td>\n",
       "      <td>sick</td>\n",
       "    </tr>\n",
       "    <tr>\n",
       "      <th>2</th>\n",
       "      <td>dataset1\\known_images\\normal_340.png</td>\n",
       "      <td>normal</td>\n",
       "    </tr>\n",
       "    <tr>\n",
       "      <th>3</th>\n",
       "      <td>dataset1\\known_images\\normal_217.png</td>\n",
       "      <td>normal</td>\n",
       "    </tr>\n",
       "    <tr>\n",
       "      <th>4</th>\n",
       "      <td>dataset1\\known_images\\sick_278.png</td>\n",
       "      <td>sick</td>\n",
       "    </tr>\n",
       "    <tr>\n",
       "      <th>...</th>\n",
       "      <td>...</td>\n",
       "      <td>...</td>\n",
       "    </tr>\n",
       "    <tr>\n",
       "      <th>710</th>\n",
       "      <td>dataset1\\known_images\\sick_120.png</td>\n",
       "      <td>sick</td>\n",
       "    </tr>\n",
       "    <tr>\n",
       "      <th>711</th>\n",
       "      <td>dataset1\\known_images\\sick_359.png</td>\n",
       "      <td>sick</td>\n",
       "    </tr>\n",
       "    <tr>\n",
       "      <th>712</th>\n",
       "      <td>dataset1\\known_images\\sick_88.png</td>\n",
       "      <td>sick</td>\n",
       "    </tr>\n",
       "    <tr>\n",
       "      <th>713</th>\n",
       "      <td>dataset1\\known_images\\sick_103.png</td>\n",
       "      <td>sick</td>\n",
       "    </tr>\n",
       "    <tr>\n",
       "      <th>714</th>\n",
       "      <td>dataset1\\known_images\\normal_309.png</td>\n",
       "      <td>normal</td>\n",
       "    </tr>\n",
       "  </tbody>\n",
       "</table>\n",
       "<p>715 rows × 2 columns</p>\n",
       "</div>"
      ],
      "text/plain": [
       "                                   images  labels\n",
       "0    dataset1\\known_images\\normal_182.png  normal\n",
       "1       dataset1\\known_images\\sick_32.png    sick\n",
       "2    dataset1\\known_images\\normal_340.png  normal\n",
       "3    dataset1\\known_images\\normal_217.png  normal\n",
       "4      dataset1\\known_images\\sick_278.png    sick\n",
       "..                                    ...     ...\n",
       "710    dataset1\\known_images\\sick_120.png    sick\n",
       "711    dataset1\\known_images\\sick_359.png    sick\n",
       "712     dataset1\\known_images\\sick_88.png    sick\n",
       "713    dataset1\\known_images\\sick_103.png    sick\n",
       "714  dataset1\\known_images\\normal_309.png  normal\n",
       "\n",
       "[715 rows x 2 columns]"
      ]
     },
     "execution_count": 775,
     "metadata": {},
     "output_type": "execute_result"
    }
   ],
   "source": [
    "df_known_images = load_images()\n",
    "\n",
    "df_known_images"
   ]
  },
  {
   "cell_type": "code",
   "execution_count": 776,
   "metadata": {},
   "outputs": [
    {
     "data": {
      "text/html": [
       "<div>\n",
       "<style scoped>\n",
       "    .dataframe tbody tr th:only-of-type {\n",
       "        vertical-align: middle;\n",
       "    }\n",
       "\n",
       "    .dataframe tbody tr th {\n",
       "        vertical-align: top;\n",
       "    }\n",
       "\n",
       "    .dataframe thead th {\n",
       "        text-align: right;\n",
       "    }\n",
       "</style>\n",
       "<table border=\"1\" class=\"dataframe\">\n",
       "  <thead>\n",
       "    <tr style=\"text-align: right;\">\n",
       "      <th></th>\n",
       "      <th>images</th>\n",
       "      <th>labels</th>\n",
       "    </tr>\n",
       "  </thead>\n",
       "  <tbody>\n",
       "    <tr>\n",
       "      <th>0</th>\n",
       "      <td>dataset1\\known_images\\sick_93.png</td>\n",
       "      <td>sick</td>\n",
       "    </tr>\n",
       "    <tr>\n",
       "      <th>1</th>\n",
       "      <td>dataset1\\known_images\\sick_115.png</td>\n",
       "      <td>sick</td>\n",
       "    </tr>\n",
       "    <tr>\n",
       "      <th>2</th>\n",
       "      <td>dataset1\\known_images\\sick_220.png</td>\n",
       "      <td>sick</td>\n",
       "    </tr>\n",
       "    <tr>\n",
       "      <th>3</th>\n",
       "      <td>dataset1\\known_images\\sick_258.png</td>\n",
       "      <td>sick</td>\n",
       "    </tr>\n",
       "    <tr>\n",
       "      <th>4</th>\n",
       "      <td>dataset1\\known_images\\sick_139.png</td>\n",
       "      <td>sick</td>\n",
       "    </tr>\n",
       "    <tr>\n",
       "      <th>...</th>\n",
       "      <td>...</td>\n",
       "      <td>...</td>\n",
       "    </tr>\n",
       "    <tr>\n",
       "      <th>710</th>\n",
       "      <td>dataset1\\known_images\\sick_370.png</td>\n",
       "      <td>sick</td>\n",
       "    </tr>\n",
       "    <tr>\n",
       "      <th>711</th>\n",
       "      <td>dataset1\\known_images\\normal_238.png</td>\n",
       "      <td>normal</td>\n",
       "    </tr>\n",
       "    <tr>\n",
       "      <th>712</th>\n",
       "      <td>dataset1\\known_images\\sick_80.png</td>\n",
       "      <td>sick</td>\n",
       "    </tr>\n",
       "    <tr>\n",
       "      <th>713</th>\n",
       "      <td>dataset1\\known_images\\sick_88.png</td>\n",
       "      <td>sick</td>\n",
       "    </tr>\n",
       "    <tr>\n",
       "      <th>714</th>\n",
       "      <td>dataset1\\known_images\\normal_141.png</td>\n",
       "      <td>normal</td>\n",
       "    </tr>\n",
       "  </tbody>\n",
       "</table>\n",
       "<p>715 rows × 2 columns</p>\n",
       "</div>"
      ],
      "text/plain": [
       "                                   images  labels\n",
       "0       dataset1\\known_images\\sick_93.png    sick\n",
       "1      dataset1\\known_images\\sick_115.png    sick\n",
       "2      dataset1\\known_images\\sick_220.png    sick\n",
       "3      dataset1\\known_images\\sick_258.png    sick\n",
       "4      dataset1\\known_images\\sick_139.png    sick\n",
       "..                                    ...     ...\n",
       "710    dataset1\\known_images\\sick_370.png    sick\n",
       "711  dataset1\\known_images\\normal_238.png  normal\n",
       "712     dataset1\\known_images\\sick_80.png    sick\n",
       "713     dataset1\\known_images\\sick_88.png    sick\n",
       "714  dataset1\\known_images\\normal_141.png  normal\n",
       "\n",
       "[715 rows x 2 columns]"
      ]
     },
     "execution_count": 776,
     "metadata": {},
     "output_type": "execute_result"
    }
   ],
   "source": [
    "df_known_images = load_images()\n",
    "\n",
    "df_known_images"
   ]
  },
  {
   "cell_type": "markdown",
   "metadata": {},
   "source": [
    "We now check if the data is balanced"
   ]
  },
  {
   "cell_type": "code",
   "execution_count": 777,
   "metadata": {},
   "outputs": [
    {
     "data": {
      "image/png": "[encoded data removed]",
      "text/plain": [
       "<Figure size 432x288 with 1 Axes>"
      ]
     },
     "metadata": {
      "needs_background": "light"
     },
     "output_type": "display_data"
    }
   ],
   "source": [
    "plt.bar(df_known_images['labels'].value_counts().index, df_known_images['labels'].value_counts().values)\n",
    "plt.show()"
   ]
  },
  {
   "cell_type": "markdown",
   "metadata": {},
   "source": [
    "Visualise some of the images"
   ]
  },
  {
   "cell_type": "code",
   "execution_count": 778,
   "metadata": {},
   "outputs": [],
   "source": [
    "def visualise_images(images, labels):\n",
    "    plt.figure(figsize=(10,5))\n",
    "    for i in range(10):\n",
    "        ax = plt.subplot(2,5,i+1)\n",
    "        img = cv2.imread(str(images[i]))\n",
    "        img = cv2.resize(img, (150, 150))\n",
    "        #img = cv2.cvtColor(img, cv2.COLOR_BGR2RGB)\n",
    "        plt.imshow(img)\n",
    "        plt.title(labels[i])\n",
    "        plt.axis('off')"
   ]
  },
  {
   "cell_type": "code",
   "execution_count": 779,
   "metadata": {},
   "outputs": [
    {
     "data": {
      "image/png": "[encoded data removed]",
      "text/plain": [
       "<Figure size 720x360 with 10 Axes>"
      ]
     },
     "metadata": {
      "needs_background": "light"
     },
     "output_type": "display_data"
    }
   ],
   "source": [
    "visualise_images(df_known_images['images'], df_known_images['labels'])"
   ]
  },
  {
   "cell_type": "markdown",
   "metadata": {},
   "source": [
    "Split the data into Test and Training"
   ]
  },
  {
   "cell_type": "code",
   "execution_count": 780,
   "metadata": {},
   "outputs": [],
   "source": [
    "def get_dataset_partitions_pd(df, train_split=0.8):\n",
    "    train=df.sample(frac=train_split,random_state=150) #random state is a seed value\n",
    "\n",
    "    test_validation=df.drop(train.index)\n",
    "\n",
    "    test=test_validation.sample(frac=0.5,random_state=150) \n",
    "\n",
    "    validation = test_validation.drop(test.index)\n",
    "\n",
    "    assert len(df) == len(train) + len(test) + len(validation) \n",
    "\n",
    "    return train, validation, test\n"
   ]
  },
  {
   "cell_type": "code",
   "execution_count": 781,
   "metadata": {},
   "outputs": [],
   "source": [
    "train_ds, val_ds, test_ds = get_dataset_partitions_pd(df_known_images)\n"
   ]
  },
  {
   "cell_type": "code",
   "execution_count": 782,
   "metadata": {},
   "outputs": [
    {
     "data": {
      "text/html": [
       "<div>\n",
       "<style scoped>\n",
       "    .dataframe tbody tr th:only-of-type {\n",
       "        vertical-align: middle;\n",
       "    }\n",
       "\n",
       "    .dataframe tbody tr th {\n",
       "        vertical-align: top;\n",
       "    }\n",
       "\n",
       "    .dataframe thead th {\n",
       "        text-align: right;\n",
       "    }\n",
       "</style>\n",
       "<table border=\"1\" class=\"dataframe\">\n",
       "  <thead>\n",
       "    <tr style=\"text-align: right;\">\n",
       "      <th></th>\n",
       "      <th>images</th>\n",
       "      <th>labels</th>\n",
       "    </tr>\n",
       "  </thead>\n",
       "  <tbody>\n",
       "    <tr>\n",
       "      <th>234</th>\n",
       "      <td>dataset1\\known_images\\normal_315.png</td>\n",
       "      <td>normal</td>\n",
       "    </tr>\n",
       "    <tr>\n",
       "      <th>179</th>\n",
       "      <td>dataset1\\known_images\\normal_342.png</td>\n",
       "      <td>normal</td>\n",
       "    </tr>\n",
       "    <tr>\n",
       "      <th>256</th>\n",
       "      <td>dataset1\\known_images\\normal_190.png</td>\n",
       "      <td>normal</td>\n",
       "    </tr>\n",
       "    <tr>\n",
       "      <th>125</th>\n",
       "      <td>dataset1\\known_images\\sick_187.png</td>\n",
       "      <td>sick</td>\n",
       "    </tr>\n",
       "    <tr>\n",
       "      <th>645</th>\n",
       "      <td>dataset1\\known_images\\sick_173.png</td>\n",
       "      <td>sick</td>\n",
       "    </tr>\n",
       "    <tr>\n",
       "      <th>...</th>\n",
       "      <td>...</td>\n",
       "      <td>...</td>\n",
       "    </tr>\n",
       "    <tr>\n",
       "      <th>515</th>\n",
       "      <td>dataset1\\known_images\\sick_89.png</td>\n",
       "      <td>sick</td>\n",
       "    </tr>\n",
       "    <tr>\n",
       "      <th>19</th>\n",
       "      <td>dataset1\\known_images\\normal_94.png</td>\n",
       "      <td>normal</td>\n",
       "    </tr>\n",
       "    <tr>\n",
       "      <th>140</th>\n",
       "      <td>dataset1\\known_images\\normal_666.png</td>\n",
       "      <td>normal</td>\n",
       "    </tr>\n",
       "    <tr>\n",
       "      <th>284</th>\n",
       "      <td>dataset1\\known_images\\normal_89.png</td>\n",
       "      <td>normal</td>\n",
       "    </tr>\n",
       "    <tr>\n",
       "      <th>430</th>\n",
       "      <td>dataset1\\known_images\\normal_355.png</td>\n",
       "      <td>normal</td>\n",
       "    </tr>\n",
       "  </tbody>\n",
       "</table>\n",
       "<p>572 rows × 2 columns</p>\n",
       "</div>"
      ],
      "text/plain": [
       "                                   images  labels\n",
       "234  dataset1\\known_images\\normal_315.png  normal\n",
       "179  dataset1\\known_images\\normal_342.png  normal\n",
       "256  dataset1\\known_images\\normal_190.png  normal\n",
       "125    dataset1\\known_images\\sick_187.png    sick\n",
       "645    dataset1\\known_images\\sick_173.png    sick\n",
       "..                                    ...     ...\n",
       "515     dataset1\\known_images\\sick_89.png    sick\n",
       "19    dataset1\\known_images\\normal_94.png  normal\n",
       "140  dataset1\\known_images\\normal_666.png  normal\n",
       "284   dataset1\\known_images\\normal_89.png  normal\n",
       "430  dataset1\\known_images\\normal_355.png  normal\n",
       "\n",
       "[572 rows x 2 columns]"
      ]
     },
     "execution_count": 782,
     "metadata": {},
     "output_type": "execute_result"
    }
   ],
   "source": [
    "train_ds"
   ]
  },
  {
   "cell_type": "code",
   "execution_count": 783,
   "metadata": {},
   "outputs": [
    {
     "data": {
      "image/png": "[encoded data removed]",
      "text/plain": [
       "<Figure size 432x288 with 1 Axes>"
      ]
     },
     "metadata": {
      "needs_background": "light"
     },
     "output_type": "display_data"
    }
   ],
   "source": [
    "plt.bar(train_ds['labels'].value_counts().index, train_ds['labels'].value_counts().values)\n",
    "plt.show()"
   ]
  },
  {
   "cell_type": "code",
   "execution_count": 784,
   "metadata": {},
   "outputs": [
    {
     "data": {
      "image/png": "[encoded data removed]",
      "text/plain": [
       "<Figure size 432x288 with 1 Axes>"
      ]
     },
     "metadata": {
      "needs_background": "light"
     },
     "output_type": "display_data"
    }
   ],
   "source": [
    "plt.bar(val_ds['labels'].value_counts().index, val_ds['labels'].value_counts().values)\n",
    "plt.show()"
   ]
  },
  {
   "cell_type": "code",
   "execution_count": 785,
   "metadata": {},
   "outputs": [
    {
     "data": {
      "image/png": "[encoded data removed]",
      "text/plain": [
       "<Figure size 432x288 with 1 Axes>"
      ]
     },
     "metadata": {
      "needs_background": "light"
     },
     "output_type": "display_data"
    }
   ],
   "source": [
    "plt.bar(test_ds['labels'].value_counts().index, test_ds['labels'].value_counts().values)\n",
    "plt.show()"
   ]
  },
  {
   "cell_type": "markdown",
   "metadata": {},
   "source": [
    "Prepare the Validation Dataset"
   ]
  },
  {
   "cell_type": "code",
   "execution_count": 786,
   "metadata": {},
   "outputs": [],
   "source": [
    "def prepare_dataset(images):\n",
    "\n",
    "    normal_cases = images.loc[images['labels'] == 'normal']\n",
    "    sick_cases = images.loc[images['labels'] == 'sick']\n",
    "    data, labels = ([] for x in range(2))\n",
    "    def prepare(case):\n",
    "        for img in case['images']:\n",
    "            img = cv2.imread(str(img))\n",
    "            img = cv2.resize(img,(150,150))\n",
    "            #img = cv2.resize(img,(800,800))\n",
    "            if img.shape[2] == 1:\n",
    "                img = np.dstack([img, img, img])\n",
    "            #img = cv2.cvtColor(img, cv2.COLOR_BGR2RGB)\n",
    "            img = img.astype(np.float32)/255.\n",
    "            if 'normal' in case['labels'].values:\n",
    "                #print(case['labels'])\n",
    "                label = to_categorical(0 , num_classes=2)\n",
    "            else:\n",
    "                #print(case['labels'])\n",
    "                label = to_categorical(1 , num_classes=2)\n",
    "            data.append(img)\n",
    "            labels.append(label)\n",
    "        return data, labels\n",
    "    prepare(normal_cases)\n",
    "    d,l = prepare(sick_cases)\n",
    "    #print(l)\n",
    "    d = np.array(d)\n",
    "    l = np.array(l)\n",
    "    return d,l"
   ]
  },
  {
   "cell_type": "code",
   "execution_count": 787,
   "metadata": {},
   "outputs": [
    {
     "name": "stdout",
     "output_type": "stream",
     "text": [
      "[[[[0.         0.         0.        ]\n",
      "   [0.         0.         0.        ]\n",
      "   [0.         0.         0.        ]\n",
      "   ...\n",
      "   [0.         0.         0.        ]\n",
      "   [0.         0.         0.        ]\n",
      "   [0.         0.         0.        ]]\n",
      "\n",
      "  [[0.         0.         0.        ]\n",
      "   [0.         0.         0.        ]\n",
      "   [0.         0.         0.        ]\n",
      "   ...\n",
      "   [0.         0.         0.        ]\n",
      "   [0.         0.         0.        ]\n",
      "   [0.         0.         0.        ]]\n",
      "\n",
      "  [[0.00392157 0.00392157 0.00392157]\n",
      "   [0.00784314 0.00784314 0.00784314]\n",
      "   [0.         0.         0.        ]\n",
      "   ...\n",
      "   [0.         0.         0.        ]\n",
      "   [0.         0.         0.        ]\n",
      "   [0.         0.         0.        ]]\n",
      "\n",
      "  ...\n",
      "\n",
      "  [[0.         0.         0.        ]\n",
      "   [0.         0.         0.        ]\n",
      "   [0.         0.         0.        ]\n",
      "   ...\n",
      "   [0.         0.         0.        ]\n",
      "   [0.         0.         0.        ]\n",
      "   [0.         0.         0.        ]]\n",
      "\n",
      "  [[0.         0.         0.        ]\n",
      "   [0.         0.         0.        ]\n",
      "   [0.         0.         0.        ]\n",
      "   ...\n",
      "   [0.         0.         0.        ]\n",
      "   [0.         0.         0.        ]\n",
      "   [0.         0.         0.        ]]\n",
      "\n",
      "  [[0.         0.         0.        ]\n",
      "   [0.         0.         0.        ]\n",
      "   [0.         0.         0.        ]\n",
      "   ...\n",
      "   [0.         0.         0.        ]\n",
      "   [0.         0.         0.        ]\n",
      "   [0.         0.         0.        ]]]\n",
      "\n",
      "\n",
      " [[[0.         0.         0.        ]\n",
      "   [0.         0.         0.        ]\n",
      "   [0.         0.         0.        ]\n",
      "   ...\n",
      "   [0.         0.         0.        ]\n",
      "   [0.         0.         0.        ]\n",
      "   [0.         0.         0.        ]]\n",
      "\n",
      "  [[0.         0.         0.        ]\n",
      "   [0.         0.         0.        ]\n",
      "   [0.         0.         0.        ]\n",
      "   ...\n",
      "   [0.         0.         0.        ]\n",
      "   [0.         0.         0.        ]\n",
      "   [0.         0.         0.        ]]\n",
      "\n",
      "  [[0.00392157 0.00392157 0.00392157]\n",
      "   [0.00784314 0.00784314 0.00784314]\n",
      "   [0.         0.         0.        ]\n",
      "   ...\n",
      "   [0.         0.         0.        ]\n",
      "   [0.         0.         0.        ]\n",
      "   [0.         0.         0.        ]]\n",
      "\n",
      "  ...\n",
      "\n",
      "  [[0.         0.         0.        ]\n",
      "   [0.         0.         0.        ]\n",
      "   [0.         0.         0.        ]\n",
      "   ...\n",
      "   [0.         0.         0.        ]\n",
      "   [0.         0.         0.        ]\n",
      "   [0.         0.         0.        ]]\n",
      "\n",
      "  [[0.         0.         0.        ]\n",
      "   [0.         0.         0.        ]\n",
      "   [0.         0.         0.        ]\n",
      "   ...\n",
      "   [0.         0.         0.        ]\n",
      "   [0.         0.         0.        ]\n",
      "   [0.         0.         0.        ]]\n",
      "\n",
      "  [[0.         0.         0.        ]\n",
      "   [0.         0.         0.        ]\n",
      "   [0.         0.         0.        ]\n",
      "   ...\n",
      "   [0.         0.         0.        ]\n",
      "   [0.         0.         0.        ]\n",
      "   [0.         0.         0.        ]]]\n",
      "\n",
      "\n",
      " [[[0.         0.         0.        ]\n",
      "   [0.         0.         0.        ]\n",
      "   [0.         0.         0.        ]\n",
      "   ...\n",
      "   [0.         0.         0.        ]\n",
      "   [0.         0.         0.        ]\n",
      "   [0.         0.         0.        ]]\n",
      "\n",
      "  [[0.         0.         0.        ]\n",
      "   [0.         0.         0.        ]\n",
      "   [0.         0.         0.        ]\n",
      "   ...\n",
      "   [0.         0.         0.        ]\n",
      "   [0.         0.         0.        ]\n",
      "   [0.         0.         0.        ]]\n",
      "\n",
      "  [[0.00392157 0.00392157 0.00392157]\n",
      "   [0.00784314 0.00784314 0.00784314]\n",
      "   [0.         0.         0.        ]\n",
      "   ...\n",
      "   [0.         0.         0.        ]\n",
      "   [0.         0.         0.        ]\n",
      "   [0.         0.         0.        ]]\n",
      "\n",
      "  ...\n",
      "\n",
      "  [[0.         0.         0.        ]\n",
      "   [0.         0.         0.        ]\n",
      "   [0.         0.         0.        ]\n",
      "   ...\n",
      "   [0.         0.         0.        ]\n",
      "   [0.         0.         0.        ]\n",
      "   [0.         0.         0.        ]]\n",
      "\n",
      "  [[0.         0.         0.        ]\n",
      "   [0.         0.         0.        ]\n",
      "   [0.         0.         0.        ]\n",
      "   ...\n",
      "   [0.         0.         0.        ]\n",
      "   [0.         0.         0.        ]\n",
      "   [0.         0.         0.        ]]\n",
      "\n",
      "  [[0.         0.         0.        ]\n",
      "   [0.         0.         0.        ]\n",
      "   [0.         0.         0.        ]\n",
      "   ...\n",
      "   [0.         0.         0.        ]\n",
      "   [0.         0.         0.        ]\n",
      "   [0.         0.         0.        ]]]\n",
      "\n",
      "\n",
      " ...\n",
      "\n",
      "\n",
      " [[[0.         0.         0.        ]\n",
      "   [0.         0.         0.        ]\n",
      "   [0.         0.         0.        ]\n",
      "   ...\n",
      "   [0.         0.         0.        ]\n",
      "   [0.         0.         0.        ]\n",
      "   [0.         0.         0.        ]]\n",
      "\n",
      "  [[0.         0.         0.        ]\n",
      "   [0.01568628 0.01568628 0.01568628]\n",
      "   [0.00784314 0.00784314 0.00784314]\n",
      "   ...\n",
      "   [0.         0.         0.        ]\n",
      "   [0.         0.         0.        ]\n",
      "   [0.         0.         0.        ]]\n",
      "\n",
      "  [[0.01960784 0.01960784 0.01960784]\n",
      "   [0.07843138 0.07843138 0.07843138]\n",
      "   [0.03921569 0.03921569 0.03921569]\n",
      "   ...\n",
      "   [0.         0.         0.        ]\n",
      "   [0.         0.         0.        ]\n",
      "   [0.         0.         0.        ]]\n",
      "\n",
      "  ...\n",
      "\n",
      "  [[0.         0.         0.        ]\n",
      "   [0.         0.         0.        ]\n",
      "   [0.         0.         0.        ]\n",
      "   ...\n",
      "   [0.         0.         0.        ]\n",
      "   [0.         0.         0.        ]\n",
      "   [0.         0.         0.        ]]\n",
      "\n",
      "  [[0.         0.         0.        ]\n",
      "   [0.         0.         0.        ]\n",
      "   [0.         0.         0.        ]\n",
      "   ...\n",
      "   [0.         0.         0.        ]\n",
      "   [0.         0.         0.        ]\n",
      "   [0.         0.         0.        ]]\n",
      "\n",
      "  [[0.         0.         0.        ]\n",
      "   [0.         0.         0.        ]\n",
      "   [0.         0.         0.        ]\n",
      "   ...\n",
      "   [0.         0.         0.        ]\n",
      "   [0.         0.         0.        ]\n",
      "   [0.         0.         0.        ]]]\n",
      "\n",
      "\n",
      " [[[0.         0.         0.        ]\n",
      "   [0.         0.         0.        ]\n",
      "   [0.         0.         0.        ]\n",
      "   ...\n",
      "   [0.         0.         0.        ]\n",
      "   [0.         0.         0.        ]\n",
      "   [0.         0.         0.        ]]\n",
      "\n",
      "  [[0.01960784 0.01960784 0.01960784]\n",
      "   [0.01960784 0.01960784 0.01960784]\n",
      "   [0.01176471 0.01176471 0.01176471]\n",
      "   ...\n",
      "   [0.         0.         0.        ]\n",
      "   [0.         0.         0.        ]\n",
      "   [0.00392157 0.00392157 0.00392157]]\n",
      "\n",
      "  [[0.24313726 0.24313726 0.24313726]\n",
      "   [0.23529412 0.23529412 0.23529412]\n",
      "   [0.10588235 0.10588235 0.10588235]\n",
      "   ...\n",
      "   [0.00392157 0.00392157 0.00392157]\n",
      "   [0.01568628 0.01568628 0.01568628]\n",
      "   [0.04313726 0.04313726 0.04313726]]\n",
      "\n",
      "  ...\n",
      "\n",
      "  [[0.04705882 0.04705882 0.04705882]\n",
      "   [0.05882353 0.05882353 0.05882353]\n",
      "   [0.05882353 0.05882353 0.05882353]\n",
      "   ...\n",
      "   [0.03137255 0.03137255 0.03137255]\n",
      "   [0.03137255 0.03137255 0.03137255]\n",
      "   [0.03137255 0.03137255 0.03137255]]\n",
      "\n",
      "  [[0.         0.         0.        ]\n",
      "   [0.         0.         0.        ]\n",
      "   [0.         0.         0.        ]\n",
      "   ...\n",
      "   [0.         0.         0.        ]\n",
      "   [0.         0.         0.        ]\n",
      "   [0.         0.         0.        ]]\n",
      "\n",
      "  [[0.         0.         0.        ]\n",
      "   [0.         0.         0.        ]\n",
      "   [0.         0.         0.        ]\n",
      "   ...\n",
      "   [0.         0.         0.        ]\n",
      "   [0.         0.         0.        ]\n",
      "   [0.         0.         0.        ]]]\n",
      "\n",
      "\n",
      " [[[0.         0.         0.        ]\n",
      "   [0.         0.         0.        ]\n",
      "   [0.         0.         0.        ]\n",
      "   ...\n",
      "   [0.         0.         0.        ]\n",
      "   [0.         0.         0.        ]\n",
      "   [0.         0.         0.        ]]\n",
      "\n",
      "  [[0.         0.         0.        ]\n",
      "   [0.01568628 0.01568628 0.01568628]\n",
      "   [0.00784314 0.00784314 0.00784314]\n",
      "   ...\n",
      "   [0.         0.         0.        ]\n",
      "   [0.         0.         0.        ]\n",
      "   [0.         0.         0.        ]]\n",
      "\n",
      "  [[0.01960784 0.01960784 0.01960784]\n",
      "   [0.07843138 0.07843138 0.07843138]\n",
      "   [0.03921569 0.03921569 0.03921569]\n",
      "   ...\n",
      "   [0.         0.         0.        ]\n",
      "   [0.         0.         0.        ]\n",
      "   [0.         0.         0.        ]]\n",
      "\n",
      "  ...\n",
      "\n",
      "  [[0.         0.         0.        ]\n",
      "   [0.         0.         0.        ]\n",
      "   [0.         0.         0.        ]\n",
      "   ...\n",
      "   [0.         0.         0.        ]\n",
      "   [0.         0.         0.        ]\n",
      "   [0.         0.         0.        ]]\n",
      "\n",
      "  [[0.         0.         0.        ]\n",
      "   [0.         0.         0.        ]\n",
      "   [0.         0.         0.        ]\n",
      "   ...\n",
      "   [0.         0.         0.        ]\n",
      "   [0.         0.         0.        ]\n",
      "   [0.         0.         0.        ]]\n",
      "\n",
      "  [[0.         0.         0.        ]\n",
      "   [0.         0.         0.        ]\n",
      "   [0.         0.         0.        ]\n",
      "   ...\n",
      "   [0.         0.         0.        ]\n",
      "   [0.         0.         0.        ]\n",
      "   [0.         0.         0.        ]]]]\n"
     ]
    }
   ],
   "source": [
    "val_data, val_labels = prepare_dataset(val_ds)\n",
    "print(val_data)"
   ]
  },
  {
   "cell_type": "markdown",
   "metadata": {},
   "source": [
    "We’ll now write a function to generate images in batches from the train set."
   ]
  },
  {
   "cell_type": "code",
   "execution_count": 788,
   "metadata": {},
   "outputs": [],
   "source": [
    "def data_gen(data, batch_size):\n",
    "    # Get total number of samples in the data\n",
    "    n = len(data)\n",
    "    steps = n//batch_size\n",
    "\n",
    "    # define two numpy arrays for containing batch data and labels\n",
    "    batch_data = np.zeros((batch_size, 150, 150, 3), dtype=np.float32) \n",
    "    batch_labels = np.zeros((batch_size, 2), dtype=np.float32)\n",
    "\n",
    "    # get a numpy array of all the indices of the input data\n",
    "    indices = np.arange(n) \n",
    "\n",
    "    # initialize a counter\n",
    "    i = 0\n",
    "    while True:\n",
    "        \n",
    "        #np.random.shuffle(indices)\n",
    "\n",
    "        # Get the next batch\n",
    "        count = 0\n",
    "        next_batch = indices[(i*batch_size):(i+1)*batch_size]\n",
    "        for j, idx in enumerate(next_batch):\n",
    "            img_name = data.iloc[idx]['images']\n",
    "            label = data.iloc[idx]['labels']\n",
    "            if label=='normal':\n",
    "                label=0\n",
    "            else:\n",
    "                label=1\n",
    "            #one hot encoding\n",
    "            encoded_label = to_categorical(label, num_classes=2)\n",
    "\n",
    "            # read the image and resize\n",
    "            img = cv2.imread(str(img_name))\n",
    "            img = cv2.resize(img, (150, 150))\n",
    "\n",
    "            # check if it's grayscale\n",
    "            if img.shape[2] == 1:\n",
    "                img = np.dstack([img, img, img])\n",
    "            \n",
    "            # cv2 reads in BGR mode by default\n",
    "\n",
    "            #orig_img = cv2.cvtColor(img, cv2.COLOR_BGR2RGB)\n",
    "            \n",
    "            # normalize the image pixels\n",
    "            orig_img = img.astype(np.float32)/255.\n",
    "\n",
    "            batch_data[count] = orig_img\n",
    "            batch_labels[count] = encoded_label\n",
    "\n",
    "            count+=1\n",
    "\n",
    "            if count==batch_size-1:\n",
    "                break\n",
    "        \n",
    "        i+=1\n",
    "        yield batch_data, batch_labels\n",
    "\n",
    "        if i>=steps:\n",
    "            i=0\n",
    "\n"
   ]
  },
  {
   "cell_type": "code",
   "execution_count": 789,
   "metadata": {},
   "outputs": [
    {
     "data": {
      "text/plain": [
       "<generator object data_gen at 0x00000192003D1C40>"
      ]
     },
     "execution_count": 789,
     "metadata": {},
     "output_type": "execute_result"
    }
   ],
   "source": [
    "# Testing the data generation function\n",
    "x = data_gen(train_ds, 160)\n",
    "\n",
    "x"
   ]
  },
  {
   "cell_type": "markdown",
   "metadata": {},
   "source": [
    "We now build the Deep Learning CNN Model for prediction"
   ]
  },
  {
   "cell_type": "code",
   "execution_count": 790,
   "metadata": {},
   "outputs": [],
   "source": [
    "model = Sequential()\n",
    "model.add(Conv2D(32, (3,3), input_shape = (150, 150, 3)))\n",
    "model.add(Activation('relu'))\n",
    "model.add(MaxPooling2D(pool_size=(2,2)))\n",
    "\n",
    "model.add(Conv2D(32, (3,3)))\n",
    "model.add(Activation('relu'))\n",
    "model.add(MaxPooling2D(pool_size=(2,2)))\n",
    "\n",
    "model.add(Conv2D(64, (3,3)))\n",
    "model.add(Activation('relu'))\n",
    "model.add(MaxPooling2D(pool_size=(2,2)))\n",
    "\n",
    "model.add(Flatten()) # this converts our 3D feature maps to 1D feature vectors\n",
    "\n",
    "model.add(Dense(64))\n",
    "model.add(Activation('relu'))\n",
    "model.add(Dense(2))\n",
    "model.add(Activation('softmax'))\n",
    "\n"
   ]
  },
  {
   "cell_type": "markdown",
   "metadata": {},
   "source": [
    "A ReLu activation is applied after every convolution to transform the output values between the range 0 to 1. Max pooling is used to downsample the input representation. It helps the model to deal with overfitting by providing an abstract representation and also reduces the computational cost. "
   ]
  },
  {
   "cell_type": "code",
   "execution_count": 791,
   "metadata": {},
   "outputs": [
    {
     "name": "stdout",
     "output_type": "stream",
     "text": [
      "(572, 2)\n",
      "<generator object data_gen at 0x000001927C6E3CA0>\n",
      "Number of training and validation steps: 114 and 71 \n"
     ]
    }
   ],
   "source": [
    "batch_size = 5\n",
    "nb_epochs = 10\n",
    "\n",
    "# Fetch the training data from the generator\n",
    "train_data_gen = data_gen(data=train_ds, batch_size=batch_size)\n",
    "\n",
    "# define number of training steps\n",
    "nb_train_steps =  train_ds.shape[0]//batch_size\n",
    "\n",
    "print(train_ds.shape)\n",
    "\n",
    "print(train_data_gen)\n",
    "\n",
    "print(\"Number of training and validation steps: {} and {} \".format(nb_train_steps, len(val_ds)))"
   ]
  },
  {
   "cell_type": "markdown",
   "metadata": {},
   "source": [
    "Batch size refers to the number of images fed to the network in a single forward pass. On the other hand, the number of epochs determines the number of times our network would process the whole training data. The number of training steps is the number of steps in one epoch and is calculated by dividing the size of our training data by the batch size. "
   ]
  },
  {
   "cell_type": "markdown",
   "metadata": {},
   "source": [
    "We’ll use binary cross-entropy as our loss function because we have only 2 classes. Rmsprop will be our optimizer function. Let’s start training."
   ]
  },
  {
   "cell_type": "code",
   "execution_count": 792,
   "metadata": {},
   "outputs": [
    {
     "name": "stdout",
     "output_type": "stream",
     "text": [
      "Epoch 1/10\n",
      "114/114 [==============================] - 9s 76ms/step - loss: 0.3544 - accuracy: 0.7895 - val_loss: 0.1997 - val_accuracy: 0.9437\n",
      "Epoch 2/10\n",
      "114/114 [==============================] - 8s 73ms/step - loss: 0.1646 - accuracy: 0.8860 - val_loss: 0.1636 - val_accuracy: 0.9577\n",
      "Epoch 3/10\n",
      "114/114 [==============================] - 9s 75ms/step - loss: 0.0928 - accuracy: 0.9421 - val_loss: 0.2040 - val_accuracy: 0.9437\n",
      "Epoch 4/10\n",
      "114/114 [==============================] - 10s 86ms/step - loss: 0.0591 - accuracy: 0.9825 - val_loss: 0.3070 - val_accuracy: 0.9577\n",
      "Epoch 5/10\n",
      "114/114 [==============================] - 10s 84ms/step - loss: 0.0299 - accuracy: 0.9912 - val_loss: 0.4320 - val_accuracy: 0.9437\n",
      "Epoch 6/10\n",
      "114/114 [==============================] - 10s 87ms/step - loss: 0.0271 - accuracy: 0.9877 - val_loss: 0.3897 - val_accuracy: 0.9718\n",
      "Epoch 7/10\n",
      "114/114 [==============================] - 10s 88ms/step - loss: 0.0429 - accuracy: 0.9930 - val_loss: 0.4647 - val_accuracy: 0.9577\n",
      "Epoch 8/10\n",
      "114/114 [==============================] - 10s 88ms/step - loss: 0.0083 - accuracy: 0.9965 - val_loss: 0.6574 - val_accuracy: 0.9577\n",
      "Epoch 9/10\n",
      "114/114 [==============================] - 10s 89ms/step - loss: 0.0111 - accuracy: 0.9982 - val_loss: 0.4971 - val_accuracy: 0.9718\n",
      "Epoch 10/10\n",
      "114/114 [==============================] - 10s 91ms/step - loss: 0.0321 - accuracy: 0.9982 - val_loss: 0.4474 - val_accuracy: 0.9718\n"
     ]
    }
   ],
   "source": [
    "model.compile(loss='binary_crossentropy',\n",
    "            optimizer='rmsprop',\n",
    "            metrics=['accuracy'])\n",
    "\n",
    "# Fit the model\n",
    "history = model.fit(train_data_gen, epochs=nb_epochs, steps_per_epoch=nb_train_steps, validation_data=(val_data,val_labels))"
   ]
  },
  {
   "cell_type": "code",
   "execution_count": 793,
   "metadata": {},
   "outputs": [
    {
     "data": {
      "image/png": "[encoded data removed]",
      "text/plain": [
       "<Figure size 576x576 with 2 Axes>"
      ]
     },
     "metadata": {
      "needs_background": "light"
     },
     "output_type": "display_data"
    }
   ],
   "source": [
    "acc = history.history['accuracy']\n",
    "val_acc = history.history['val_accuracy']\n",
    "\n",
    "loss = history.history['loss']\n",
    "val_loss = history.history['val_loss']\n",
    "\n",
    "epochs_range = range(nb_epochs)\n",
    "\n",
    "plt.figure(figsize=(8, 8))\n",
    "plt.subplot(1, 2, 1)\n",
    "plt.plot(epochs_range, acc, label='Training Accuracy')\n",
    "plt.plot(epochs_range, val_acc, label='Validation Accuracy')\n",
    "plt.legend(loc='lower right')\n",
    "plt.title('Training and Validation Accuracy')\n",
    "\n",
    "plt.subplot(1, 2, 2)\n",
    "plt.plot(epochs_range, loss, label='Training Loss')\n",
    "plt.plot(epochs_range, val_loss, label='Validation Loss')\n",
    "plt.legend(loc='upper right')\n",
    "plt.title('Training and Validation Loss')\n",
    "plt.show()"
   ]
  },
  {
   "cell_type": "markdown",
   "metadata": {},
   "source": [
    "high validation accuracy shows overfitting"
   ]
  },
  {
   "cell_type": "markdown",
   "metadata": {},
   "source": [
    "\n",
    "so we add dropouts to model"
   ]
  },
  {
   "cell_type": "code",
   "execution_count": 794,
   "metadata": {},
   "outputs": [],
   "source": [
    "model = Sequential()\n",
    "model.add(Conv2D(32, (3,3), input_shape = (150, 150, 3)))\n",
    "model.add(Activation('relu'))\n",
    "model.add(MaxPooling2D(pool_size=(2,2)))\n",
    "\n",
    "\n",
    "\n",
    "model.add(Conv2D(32, (3,3)))\n",
    "model.add(Activation('relu'))\n",
    "model.add(MaxPooling2D(pool_size=(2,2)))\n",
    "\n",
    "model.add(Dropout(0.25))\n",
    "\n",
    "\n",
    "model.add(Conv2D(64, (3,3)))\n",
    "model.add(Activation('relu'))\n",
    "model.add(MaxPooling2D(pool_size=(2,2)))\n",
    "\n",
    "model.add(Dropout(0.25))\n",
    "\n",
    "model.add(Flatten()) # this converts our 3D feature maps to 1D feature vectors\n",
    "\n",
    "model.add(Dense(128))\n",
    "model.add(Activation('relu'))\n",
    "\n",
    "model.add(Dropout(0.25))\n",
    "\n",
    "model.add(Dense(2))\n",
    "model.add(Activation('softmax'))\n"
   ]
  },
  {
   "cell_type": "code",
   "execution_count": 795,
   "metadata": {},
   "outputs": [
    {
     "name": "stdout",
     "output_type": "stream",
     "text": [
      "Epoch 1/10\n",
      "114/114 [==============================] - 12s 98ms/step - loss: 0.3961 - accuracy: 0.6877 - val_loss: 0.2555 - val_accuracy: 0.8732\n",
      "Epoch 2/10\n",
      "114/114 [==============================] - 11s 95ms/step - loss: 0.1894 - accuracy: 0.8193 - val_loss: 0.2013 - val_accuracy: 0.9296\n",
      "Epoch 3/10\n",
      "114/114 [==============================] - 11s 94ms/step - loss: 0.1505 - accuracy: 0.9018 - val_loss: 0.2079 - val_accuracy: 0.9437\n",
      "Epoch 4/10\n",
      "114/114 [==============================] - 11s 96ms/step - loss: 0.1204 - accuracy: 0.9246 - val_loss: 0.1797 - val_accuracy: 0.9577\n",
      "Epoch 5/10\n",
      "114/114 [==============================] - 11s 95ms/step - loss: 0.0851 - accuracy: 0.9544 - val_loss: 0.2902 - val_accuracy: 0.9437\n",
      "Epoch 6/10\n",
      "114/114 [==============================] - 11s 94ms/step - loss: 0.0785 - accuracy: 0.9632 - val_loss: 0.2831 - val_accuracy: 0.9437\n",
      "Epoch 7/10\n",
      "114/114 [==============================] - 10s 91ms/step - loss: 0.0741 - accuracy: 0.9754 - val_loss: 0.4773 - val_accuracy: 0.9437\n",
      "Epoch 8/10\n",
      "114/114 [==============================] - 11s 94ms/step - loss: 0.0962 - accuracy: 0.9825 - val_loss: 0.3103 - val_accuracy: 0.9437\n",
      "Epoch 9/10\n",
      "114/114 [==============================] - 11s 96ms/step - loss: 0.0476 - accuracy: 0.9895 - val_loss: 0.4284 - val_accuracy: 0.9437\n",
      "Epoch 10/10\n",
      "114/114 [==============================] - 10s 91ms/step - loss: 0.0477 - accuracy: 0.9860 - val_loss: 0.5877 - val_accuracy: 0.9296\n"
     ]
    }
   ],
   "source": [
    "model.compile(loss='binary_crossentropy',\n",
    "            optimizer='rmsprop',\n",
    "            metrics=['accuracy'])\n",
    "\n",
    "# Fit the model\n",
    "history = model.fit(train_data_gen, epochs=nb_epochs, steps_per_epoch=nb_train_steps, validation_data=(val_data,val_labels))"
   ]
  },
  {
   "cell_type": "code",
   "execution_count": 796,
   "metadata": {},
   "outputs": [
    {
     "data": {
      "image/png": "[encoded data removed]",
      "text/plain": [
       "<Figure size 576x576 with 2 Axes>"
      ]
     },
     "metadata": {
      "needs_background": "light"
     },
     "output_type": "display_data"
    }
   ],
   "source": [
    "acc = history.history['accuracy']\n",
    "val_acc = history.history['val_accuracy']\n",
    "\n",
    "loss = history.history['loss']\n",
    "val_loss = history.history['val_loss']\n",
    "\n",
    "epochs_range = range(nb_epochs)\n",
    "\n",
    "plt.figure(figsize=(8, 8))\n",
    "plt.subplot(1, 2, 1)\n",
    "plt.plot(epochs_range, acc, label='Training Accuracy')\n",
    "plt.plot(epochs_range, val_acc, label='Validation Accuracy')\n",
    "plt.legend(loc='lower right')\n",
    "plt.title('Training and Validation Accuracy')\n",
    "\n",
    "plt.subplot(1, 2, 2)\n",
    "plt.plot(epochs_range, loss, label='Training Loss')\n",
    "plt.plot(epochs_range, val_loss, label='Validation Loss')\n",
    "plt.legend(loc='upper right')\n",
    "plt.title('Training and Validation Loss')\n",
    "plt.show()"
   ]
  },
  {
   "cell_type": "markdown",
   "metadata": {},
   "source": [
    "adding augmentation"
   ]
  },
  {
   "cell_type": "code",
   "execution_count": 797,
   "metadata": {},
   "outputs": [],
   "source": [
    "\n",
    "\n",
    "data_augmentation = keras.Sequential(\n",
    "  [\n",
    "    layers.RandomFlip(\"horizontal\",\n",
    "                      input_shape=(150,\n",
    "                                  150,\n",
    "                                  3)),\n",
    "    layers.RandomRotation(0.1),\n",
    "    layers.RandomZoom(0.1),\n",
    "  ]\n",
    ")"
   ]
  },
  {
   "cell_type": "code",
   "execution_count": 798,
   "metadata": {},
   "outputs": [
    {
     "data": {
      "text/plain": [
       "234    dataset1\\known_images\\normal_315.png\n",
       "179    dataset1\\known_images\\normal_342.png\n",
       "256    dataset1\\known_images\\normal_190.png\n",
       "125      dataset1\\known_images\\sick_187.png\n",
       "645      dataset1\\known_images\\sick_173.png\n",
       "                       ...                 \n",
       "515       dataset1\\known_images\\sick_89.png\n",
       "19      dataset1\\known_images\\normal_94.png\n",
       "140    dataset1\\known_images\\normal_666.png\n",
       "284     dataset1\\known_images\\normal_89.png\n",
       "430    dataset1\\known_images\\normal_355.png\n",
       "Name: images, Length: 572, dtype: object"
      ]
     },
     "execution_count": 798,
     "metadata": {},
     "output_type": "execute_result"
    }
   ],
   "source": [
    "train_ds['images']"
   ]
  },
  {
   "cell_type": "code",
   "execution_count": 799,
   "metadata": {},
   "outputs": [],
   "source": [
    "model = Sequential()\n",
    "model.add(data_augmentation)\n",
    "model.add(Conv2D(32, (3,3), input_shape = (150, 150, 3)))\n",
    "model.add(Activation('relu'))\n",
    "model.add(MaxPooling2D(pool_size=(2,2)))\n",
    "\n",
    "\n",
    "\n",
    "model.add(Conv2D(32, (3,3)))\n",
    "model.add(Activation('relu'))\n",
    "model.add(MaxPooling2D(pool_size=(2,2)))\n",
    "\n",
    "model.add(Dropout(0.25))\n",
    "\n",
    "\n",
    "model.add(Conv2D(64, (3,3)))\n",
    "model.add(Activation('relu'))\n",
    "model.add(MaxPooling2D(pool_size=(2,2)))\n",
    "\n",
    "model.add(Dropout(0.25))\n",
    "\n",
    "model.add(Flatten()) # this converts our 3D feature maps to 1D feature vectors\n",
    "\n",
    "model.add(Dense(128))\n",
    "model.add(Activation('relu'))\n",
    "\n",
    "model.add(Dropout(0.25))\n",
    "\n",
    "model.add(Dense(2))\n",
    "model.add(Activation('softmax'))\n"
   ]
  },
  {
   "cell_type": "code",
   "execution_count": 800,
   "metadata": {},
   "outputs": [
    {
     "name": "stdout",
     "output_type": "stream",
     "text": [
      "Epoch 1/10\n",
      "114/114 [==============================] - 12s 98ms/step - loss: 0.4404 - accuracy: 0.6035 - val_loss: 0.3266 - val_accuracy: 0.8732\n",
      "Epoch 2/10\n",
      "114/114 [==============================] - 11s 97ms/step - loss: 0.3060 - accuracy: 0.7421 - val_loss: 0.2737 - val_accuracy: 0.8732\n",
      "Epoch 3/10\n",
      "114/114 [==============================] - 11s 95ms/step - loss: 0.2948 - accuracy: 0.8123 - val_loss: 0.2561 - val_accuracy: 0.9014\n",
      "Epoch 4/10\n",
      "114/114 [==============================] - 11s 99ms/step - loss: 0.2419 - accuracy: 0.8140 - val_loss: 0.2457 - val_accuracy: 0.9155\n",
      "Epoch 5/10\n",
      "114/114 [==============================] - 12s 102ms/step - loss: 0.1904 - accuracy: 0.8667 - val_loss: 0.2810 - val_accuracy: 0.9155\n",
      "Epoch 6/10\n",
      "114/114 [==============================] - 12s 105ms/step - loss: 0.1775 - accuracy: 0.8526 - val_loss: 0.2307 - val_accuracy: 0.9296\n",
      "Epoch 7/10\n",
      "114/114 [==============================] - 11s 99ms/step - loss: 0.1681 - accuracy: 0.8649 - val_loss: 0.1922 - val_accuracy: 0.9437\n",
      "Epoch 8/10\n",
      "114/114 [==============================] - 11s 96ms/step - loss: 0.1728 - accuracy: 0.8561 - val_loss: 0.2286 - val_accuracy: 0.9437\n",
      "Epoch 9/10\n",
      "114/114 [==============================] - 11s 96ms/step - loss: 0.1445 - accuracy: 0.8404 - val_loss: 0.1782 - val_accuracy: 0.9437\n",
      "Epoch 10/10\n",
      "114/114 [==============================] - 11s 96ms/step - loss: 0.1583 - accuracy: 0.8719 - val_loss: 0.2683 - val_accuracy: 0.9155\n"
     ]
    }
   ],
   "source": [
    "model.compile(loss='binary_crossentropy',\n",
    "            optimizer='rmsprop',\n",
    "            metrics=['accuracy'])\n",
    "\n",
    "# Fit the model\n",
    "history = model.fit(train_data_gen, epochs=nb_epochs, steps_per_epoch=nb_train_steps, validation_data=(val_data,val_labels))"
   ]
  },
  {
   "cell_type": "code",
   "execution_count": 801,
   "metadata": {},
   "outputs": [
    {
     "data": {
      "image/png": "[encoded data removed]",
      "text/plain": [
       "<Figure size 576x576 with 2 Axes>"
      ]
     },
     "metadata": {
      "needs_background": "light"
     },
     "output_type": "display_data"
    }
   ],
   "source": [
    "acc = history.history['accuracy']\n",
    "val_acc = history.history['val_accuracy']\n",
    "\n",
    "loss = history.history['loss']\n",
    "val_loss = history.history['val_loss']\n",
    "\n",
    "epochs_range = range(nb_epochs)\n",
    "\n",
    "plt.figure(figsize=(8, 8))\n",
    "plt.subplot(1, 2, 1)\n",
    "plt.plot(epochs_range, acc, label='Training Accuracy')\n",
    "plt.plot(epochs_range, val_acc, label='Validation Accuracy')\n",
    "plt.legend(loc='lower right')\n",
    "plt.title('Training and Validation Accuracy')\n",
    "\n",
    "plt.subplot(1, 2, 2)\n",
    "plt.plot(epochs_range, loss, label='Training Loss')\n",
    "plt.plot(epochs_range, val_loss, label='Validation Loss')\n",
    "plt.legend(loc='upper right')\n",
    "plt.title('Training and Validation Loss')\n",
    "plt.show()"
   ]
  },
  {
   "cell_type": "code",
   "execution_count": 802,
   "metadata": {},
   "outputs": [
    {
     "name": "stdout",
     "output_type": "stream",
     "text": [
      "(72, 150, 150, 3)\n"
     ]
    }
   ],
   "source": [
    "test_data, test_labels = prepare_dataset(test_ds)\n",
    "print(test_data.shape)"
   ]
  },
  {
   "cell_type": "code",
   "execution_count": 803,
   "metadata": {},
   "outputs": [
    {
     "name": "stdout",
     "output_type": "stream",
     "text": [
      "15/15 [==============================] - 0s 17ms/step - loss: 0.4703 - accuracy: 0.8611\n",
      "Loss and accuracy 0.47032636404037476 & 0.8611111044883728\n"
     ]
    }
   ],
   "source": [
    "loss, acc = model.evaluate(test_data, test_labels,batch_size=5)\n",
    "print('Loss and accuracy',loss,'&',acc)"
   ]
  },
  {
   "cell_type": "code",
   "execution_count": 804,
   "metadata": {},
   "outputs": [
    {
     "name": "stdout",
     "output_type": "stream",
     "text": [
      "15/15 [==============================] - 0s 16ms/step\n",
      "              precision    recall  f1-score   support\n",
      "\n",
      "           0       0.81      0.95      0.88        37\n",
      "           1       0.93      0.77      0.84        35\n",
      "\n",
      "    accuracy                           0.86        72\n",
      "   macro avg       0.87      0.86      0.86        72\n",
      "weighted avg       0.87      0.86      0.86        72\n",
      "\n"
     ]
    }
   ],
   "source": [
    "# Get predictions\n",
    "pred = model.predict(test_data, batch_size=5)\n",
    "pred = np.argmax(pred, axis=-1)\n",
    "\n",
    "# original labels\n",
    "labels = np.argmax(test_labels, axis=-1)\n",
    "from sklearn.metrics import classification_report\n",
    "print(classification_report(labels, pred))"
   ]
  },
  {
   "cell_type": "code",
   "execution_count": 805,
   "metadata": {},
   "outputs": [
    {
     "data": {
      "text/plain": [
       "<AxesSubplot:>"
      ]
     },
     "execution_count": 805,
     "metadata": {},
     "output_type": "execute_result"
    },
    {
     "data": {
      "image/png": "[encoded data removed]",
      "text/plain": [
       "<Figure size 432x288 with 2 Axes>"
      ]
     },
     "metadata": {
      "needs_background": "light"
     },
     "output_type": "display_data"
    }
   ],
   "source": [
    "import seaborn as sns\n",
    "\n",
    "# Get the confusion matrix\n",
    "cm = confusion_matrix(labels, pred)\n",
    "sns.heatmap(cm, annot=True, fmt='g', xticklabels=['normal', 'sick'],yticklabels=['normal', 'sick'] )"
   ]
  },
  {
   "cell_type": "markdown",
   "metadata": {},
   "source": [
    "We now label the unknown images.<br>\n",
    "Let us first load them"
   ]
  },
  {
   "cell_type": "code",
   "execution_count": 806,
   "metadata": {},
   "outputs": [],
   "source": [
    "def load_unknown_images():\n",
    "    images_dir = Path('dataset1/unknown_images/')\n",
    "    images = images_dir.glob('*.png')\n",
    "    img_data = []\n",
    "    for img in images:\n",
    "        img_data.append(img)\n",
    "    df = pd.DataFrame(img_data)\n",
    "    df.columns = ['images']\n",
    "    df = df.sample(frac=1).reset_index(drop=True)\n",
    "    return df"
   ]
  },
  {
   "cell_type": "code",
   "execution_count": 807,
   "metadata": {},
   "outputs": [
    {
     "data": {
      "text/plain": [
       "(50, 1)"
      ]
     },
     "execution_count": 807,
     "metadata": {},
     "output_type": "execute_result"
    }
   ],
   "source": [
    "df_unknown_images = load_unknown_images()\n",
    "\n",
    "df_unknown_images.shape"
   ]
  },
  {
   "cell_type": "code",
   "execution_count": 808,
   "metadata": {},
   "outputs": [],
   "source": [
    "def prepare_dataset_unknown(images):\n",
    "  \n",
    "    data = []\n",
    "    def prepare(case):\n",
    "        for img in case['images']:\n",
    "            img = cv2.imread(str(img))\n",
    "            img = cv2.resize(img,(150,150))\n",
    "            if img.shape[2] == 1:\n",
    "                img = np.dstack([img, img, img])\n",
    "            #img = cv2.cvtColor(img, cv2.COLOR_BGR2RGB)\n",
    "            img = img.astype(np.float32)/255.\n",
    "            data.append(img)\n",
    "        return data\n",
    "    \n",
    "    d = prepare(images)\n",
    "    #print(l)\n",
    "    d = np.array(d)\n",
    "    return d"
   ]
  },
  {
   "cell_type": "code",
   "execution_count": 809,
   "metadata": {},
   "outputs": [],
   "source": [
    "unknown_data = prepare_dataset_unknown(df_unknown_images)"
   ]
  },
  {
   "cell_type": "code",
   "execution_count": 810,
   "metadata": {},
   "outputs": [
    {
     "data": {
      "text/plain": [
       "(50, 150, 150, 3)"
      ]
     },
     "execution_count": 810,
     "metadata": {},
     "output_type": "execute_result"
    }
   ],
   "source": [
    "unknown_data.shape"
   ]
  },
  {
   "cell_type": "code",
   "execution_count": 811,
   "metadata": {},
   "outputs": [
    {
     "name": "stdout",
     "output_type": "stream",
     "text": [
      "10/10 [==============================] - 0s 18ms/step\n",
      "[0 1 0 1 0 0 1 0 0 1 1 1 0 0 0 1 0 1 0 0 0 1 0 0 0 0 0 1 0 1 0 1 1 0 1 1 1\n",
      " 0 0 0 1 0 1 1 0 1 1 1 0 0]\n"
     ]
    }
   ],
   "source": [
    "# Get predictions\n",
    "pred = model.predict(unknown_data, batch_size=5)\n",
    "#print(pred)\n",
    "pred = np.argmax(pred, axis=-1)\n",
    "print(pred)"
   ]
  },
  {
   "cell_type": "code",
   "execution_count": 812,
   "metadata": {},
   "outputs": [],
   "source": [
    "df_unknown_images[\"predictions (0-Normal, 1-Sick)\"] = pred\n",
    "submission = df_unknown_images[[\"images\",\"predictions (0-Normal, 1-Sick)\"]]\n",
    "submission.to_csv(\"predictions_3.csv\", index=False)"
   ]
  },
  {
   "cell_type": "markdown",
   "metadata": {},
   "source": [
    "We now measure the performance of our model using dataset2"
   ]
  },
  {
   "cell_type": "code",
   "execution_count": 813,
   "metadata": {},
   "outputs": [],
   "source": [
    "# Loading dataset 2 into a dataframe\n",
    "\n",
    "def load_dataset2_images():\n",
    "    images_dir = Path('dataset2/images/')\n",
    "    images = images_dir.glob('*.png')\n",
    "    img_data = []\n",
    "    for img in images:\n",
    "        img_data.append(img)\n",
    "    df = pd.DataFrame(img_data)\n",
    "    df.columns = ['images']\n",
    "    df = df.sample(frac=1).reset_index(drop=True)\n",
    "    return df"
   ]
  },
  {
   "cell_type": "code",
   "execution_count": 814,
   "metadata": {},
   "outputs": [
    {
     "name": "stdout",
     "output_type": "stream",
     "text": [
      "                              images\n",
      "0     dataset2\\images\\sick_eff28.png\n",
      "1     dataset2\\images\\sick_eff77.png\n",
      "2     dataset2\\images\\sick_eff23.png\n",
      "3     dataset2\\images\\sick_eff54.png\n",
      "4     dataset2\\images\\sick_eff59.png\n",
      "..                               ...\n",
      "219   dataset2\\images\\sick_eif50.png\n",
      "220   dataset2\\images\\sick_eff94.png\n",
      "221    dataset2\\images\\sick_eif8.png\n",
      "222  dataset2\\images\\sick_eff104.png\n",
      "223   dataset2\\images\\sick_eff38.png\n",
      "\n",
      "[224 rows x 1 columns]\n"
     ]
    }
   ],
   "source": [
    "dataset2 = load_dataset2_images()\n",
    "print(dataset2)"
   ]
  },
  {
   "cell_type": "code",
   "execution_count": 815,
   "metadata": {},
   "outputs": [
    {
     "name": "stdout",
     "output_type": "stream",
     "text": [
      "Index(['patient', 'diagnosis (0-Normal, 1-Sick)'], dtype='object')\n"
     ]
    }
   ],
   "source": [
    "# Reading the csv containing the image classes\n",
    "\n",
    "dataset2_classes = pd.read_csv('dataset2/image_classes.csv')\n",
    "print(dataset2_classes.columns)"
   ]
  },
  {
   "cell_type": "code",
   "execution_count": 816,
   "metadata": {},
   "outputs": [
    {
     "name": "stdout",
     "output_type": "stream",
     "text": [
      "Index(['images', 'patient'], dtype='object')\n"
     ]
    }
   ],
   "source": [
    "from pathlib import Path\n",
    "dataset2['patient'] = dataset2['images'].apply(lambda path: Path(path).stem)\n",
    "print(dataset2.columns)"
   ]
  },
  {
   "cell_type": "code",
   "execution_count": 817,
   "metadata": {},
   "outputs": [
    {
     "name": "stdout",
     "output_type": "stream",
     "text": [
      "Index(['patient', 'diagnosis (0-Normal, 1-Sick)', 'images'], dtype='object')\n",
      "         patient  diagnosis (0-Normal, 1-Sick)  \\\n",
      "0      sick_eff0                             0   \n",
      "1      sick_eff1                             0   \n",
      "2      sick_eff2                             0   \n",
      "3      sick_eff3                             0   \n",
      "4      sick_eff4                             0   \n",
      "..           ...                           ...   \n",
      "219  sick_eif107                             1   \n",
      "220  sick_eif108                             1   \n",
      "221  sick_eif109                             1   \n",
      "222  sick_eif110                             1   \n",
      "223  sick_eif111                             1   \n",
      "\n",
      "                              images  diagnosis  \n",
      "0      dataset2\\images\\sick_eff0.png          0  \n",
      "1      dataset2\\images\\sick_eff1.png          0  \n",
      "2      dataset2\\images\\sick_eff2.png          0  \n",
      "3      dataset2\\images\\sick_eff3.png          0  \n",
      "4      dataset2\\images\\sick_eff4.png          0  \n",
      "..                               ...        ...  \n",
      "219  dataset2\\images\\sick_eif107.png          1  \n",
      "220  dataset2\\images\\sick_eif108.png          1  \n",
      "221  dataset2\\images\\sick_eif109.png          1  \n",
      "222  dataset2\\images\\sick_eif110.png          1  \n",
      "223  dataset2\\images\\sick_eif111.png          1  \n",
      "\n",
      "[224 rows x 4 columns]\n"
     ]
    }
   ],
   "source": [
    "# merging the image classes to the image path\n",
    "\n",
    "dataset2_merged = pd.merge(dataset2_classes, dataset2, how='left', left_on='patient', right_on='patient')\n",
    "\n",
    "print(dataset2_merged.columns)\n",
    "\n",
    "dataset2_merged['diagnosis'] = dataset2_merged['diagnosis (0-Normal, 1-Sick)']\n",
    "\n",
    "print(dataset2_merged)"
   ]
  },
  {
   "cell_type": "code",
   "execution_count": 818,
   "metadata": {},
   "outputs": [],
   "source": [
    "def prepare_dataset2(images):\n",
    " \n",
    "    normal_cases = images.loc[images['diagnosis'] == 0]\n",
    "    \n",
    "    sick_cases = images.loc[images['diagnosis'] == 1]\n",
    "\n",
    "    print(sick_cases)\n",
    "    data, labels = ([] for x in range(2))\n",
    "    def prepare(case):\n",
    "        for img in case['images']:\n",
    "            img = cv2.imread(str(img))\n",
    "            img = cv2.resize(img,(150,150))\n",
    "            if img.shape[2] == 1:\n",
    "                img = np.dstack([img, img, img])\n",
    "            #img = cv2.cvtColor(img, cv2.COLOR_BGR2RGB)\n",
    "            img = img.astype(np.float32)/255.\n",
    "            if 0 in case['diagnosis'].values:\n",
    "                #print(case['labels'])\n",
    "                label = to_categorical(0 , num_classes=2)\n",
    "            else:\n",
    "                #print(case['diagnosis'])\n",
    "                label = to_categorical(1 , num_classes=2)\n",
    "            data.append(img)\n",
    "            labels.append(label)\n",
    "        return data, labels\n",
    "    prepare(normal_cases)\n",
    "    d,l = prepare(sick_cases)\n",
    "    #print(l)\n",
    "    d = np.array(d)\n",
    "    l = np.array(l)\n",
    "    return d,l"
   ]
  },
  {
   "cell_type": "code",
   "execution_count": 819,
   "metadata": {},
   "outputs": [
    {
     "name": "stdout",
     "output_type": "stream",
     "text": [
      "         patient  diagnosis (0-Normal, 1-Sick)  \\\n",
      "112    sick_eif0                             1   \n",
      "113    sick_eif1                             1   \n",
      "114    sick_eif2                             1   \n",
      "115    sick_eif3                             1   \n",
      "116    sick_eif4                             1   \n",
      "..           ...                           ...   \n",
      "219  sick_eif107                             1   \n",
      "220  sick_eif108                             1   \n",
      "221  sick_eif109                             1   \n",
      "222  sick_eif110                             1   \n",
      "223  sick_eif111                             1   \n",
      "\n",
      "                              images  diagnosis  \n",
      "112    dataset2\\images\\sick_eif0.png          1  \n",
      "113    dataset2\\images\\sick_eif1.png          1  \n",
      "114    dataset2\\images\\sick_eif2.png          1  \n",
      "115    dataset2\\images\\sick_eif3.png          1  \n",
      "116    dataset2\\images\\sick_eif4.png          1  \n",
      "..                               ...        ...  \n",
      "219  dataset2\\images\\sick_eif107.png          1  \n",
      "220  dataset2\\images\\sick_eif108.png          1  \n",
      "221  dataset2\\images\\sick_eif109.png          1  \n",
      "222  dataset2\\images\\sick_eif110.png          1  \n",
      "223  dataset2\\images\\sick_eif111.png          1  \n",
      "\n",
      "[112 rows x 4 columns]\n"
     ]
    },
    {
     "data": {
      "text/plain": [
       "(224, 150, 150, 3)"
      ]
     },
     "execution_count": 819,
     "metadata": {},
     "output_type": "execute_result"
    }
   ],
   "source": [
    "d2_data, d2_labels = prepare_dataset2(dataset2_merged)\n",
    "dataset2_merged.shape\n",
    "d2_data.shape"
   ]
  },
  {
   "cell_type": "code",
   "execution_count": 820,
   "metadata": {},
   "outputs": [
    {
     "name": "stdout",
     "output_type": "stream",
     "text": [
      "14/14 [==============================] - 1s 39ms/step\n",
      "              precision    recall  f1-score   support\n",
      "\n",
      "           0       0.54      0.13      0.21       112\n",
      "           1       0.51      0.88      0.64       112\n",
      "\n",
      "    accuracy                           0.51       224\n",
      "   macro avg       0.52      0.51      0.43       224\n",
      "weighted avg       0.52      0.51      0.43       224\n",
      "\n"
     ]
    }
   ],
   "source": [
    "# Get predictions\n",
    "pred = model.predict(d2_data, batch_size=16)\n",
    "#pred = model.predict(d2_data, batch_size=16)\n",
    "pred = np.argmax(pred, axis=-1)\n",
    "\n",
    "# original labels\n",
    "labels = np.argmax(d2_labels, axis=-1)\n",
    "from sklearn.metrics import classification_report\n",
    "print(classification_report(labels, pred))\n"
   ]
  },
  {
   "cell_type": "code",
   "execution_count": 821,
   "metadata": {},
   "outputs": [
    {
     "data": {
      "text/plain": [
       "<AxesSubplot:>"
      ]
     },
     "execution_count": 821,
     "metadata": {},
     "output_type": "execute_result"
    },
    {
     "data": {
      "image/png": "[encoded data removed]",
      "text/plain": [
       "<Figure size 432x288 with 2 Axes>"
      ]
     },
     "metadata": {
      "needs_background": "light"
     },
     "output_type": "display_data"
    }
   ],
   "source": [
    "import seaborn as sns\n",
    "\n",
    "# Get the confusion matrix\n",
    "cm = confusion_matrix(labels, pred)\n",
    "sns.heatmap(cm, annot=True, fmt='g', xticklabels=['normal', 'sick'],yticklabels=['normal', 'sick'] )"
   ]
  }
 ],
 "metadata": {
  "kernelspec": {
   "display_name": "Python 3.10.2 64-bit",
   "language": "python",
   "name": "python3"
  },
  "language_info": {
   "codemirror_mode": {
    "name": "ipython",
    "version": 3
   },
   "file_extension": ".py",
   "mimetype": "text/x-python",
   "name": "python",
   "nbconvert_exporter": "python",
   "pygments_lexer": "ipython3",
   "version": "3.10.2"
  },
  "orig_nbformat": 4,
  "vscode": {
   "interpreter": {
    "hash": "5904c03de541aee3171dc2d946da9df85831543bc9d72f4542217b15b1550de6"
   }
  }
 },
 "nbformat": 4,
 "nbformat_minor": 2
}
